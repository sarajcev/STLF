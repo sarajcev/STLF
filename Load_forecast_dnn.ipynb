{
 "cells": [
  {
   "cell_type": "markdown",
   "metadata": {},
   "source": [
    "## Machine learning for time-series electric power load forecasting"
   ]
  },
  {
   "cell_type": "markdown",
   "metadata": {},
   "source": [
    "**Author**: \n",
    "Petar Sarajcev, PhD\n",
    "University of Split, FESB, Department of Power Engineering, Croatia, EU."
   ]
  },
  {
   "cell_type": "markdown",
   "metadata": {},
   "source": [
    "**Ausgrid Substation Data**\n",
    "Ausgrid, “Distribution zone substation information data to share,” http://www.ausgrid.com.au/Common/About-us/Corporate-information/Data-to-share/DistZone-subs.aspx#.WYD6KenauUl, accessed May, 2019."
   ]
  },
  {
   "cell_type": "markdown",
   "metadata": {},
   "source": [
    "**DarkSky API** \n",
    "Weather data from https://darksky.net/dev"
   ]
  },
  {
   "cell_type": "code",
   "execution_count": 1,
   "metadata": {},
   "outputs": [],
   "source": [
    "import os\n",
    "import time\n",
    "import timeit\n",
    "import pickle\n",
    "import warnings\n",
    "import numpy as np\n",
    "import pandas as pd\n",
    "import datetime as dt\n",
    "import matplotlib.pyplot as plt\n",
    "import matplotlib.gridspec as gs\n",
    "from matplotlib import cm"
   ]
  },
  {
   "cell_type": "code",
   "execution_count": 2,
   "metadata": {},
   "outputs": [],
   "source": [
    "from sklearn.preprocessing import StandardScaler\n",
    "from sklearn.ensemble import RandomForestRegressor\n",
    "from sklearn.model_selection import GridSearchCV, TimeSeriesSplit\n",
    "from sklearn.feature_selection import SelectFromModel"
   ]
  },
  {
   "cell_type": "code",
   "execution_count": 3,
   "metadata": {},
   "outputs": [],
   "source": [
    "import tensorflow as tf\n",
    "from tensorflow import keras"
   ]
  },
  {
   "cell_type": "code",
   "execution_count": 4,
   "metadata": {},
   "outputs": [],
   "source": [
    "import seaborn as sns\n",
    "# Seaborn style (figures aesthetics)\n",
    "sns.set(context='paper', style='whitegrid', font_scale=1.2)\n",
    "sns.set_style('ticks', {'xtick.direction':'in', 'ytick.direction':'in'})"
   ]
  },
  {
   "cell_type": "code",
   "execution_count": 5,
   "metadata": {},
   "outputs": [],
   "source": [
    "%matplotlib inline"
   ]
  },
  {
   "cell_type": "code",
   "execution_count": 6,
   "metadata": {},
   "outputs": [],
   "source": [
    "def restructure_input_data(filename):\n",
    "    # Re-structure input data wide CSV files into long pandas dataframes\n",
    "    d2 = pd.read_csv(filename)\n",
    "    d2.drop(['Zone Substation', 'unit', 'year'], inplace=True, axis=1)\n",
    "    d2 = d2.rename({'24:00':'23:59'}, axis='columns')  # datetime can't accept 24:00 value!\n",
    "    d2['Date'] = pd.to_datetime(d2['Date'], infer_datetime_format=True)\n",
    "    d2 = d2.melt(id_vars=['Date'])\n",
    "    d2['variable'] = d2['variable']+':00'\n",
    "    d2['variable'] = pd.to_datetime(d2['variable'], infer_datetime_format=True)\n",
    "    d2['variable'] = d2['variable'].dt.time\n",
    "    d2 = d2.set_index(['Date', 'variable'])\n",
    "    d2 = d2.sort_index(level=[0,1]).reset_index()\n",
    "    d2['DT'] = d2.apply(lambda r: pd.datetime.combine(r['Date'], r['variable']), axis=1)\n",
    "    d2.set_index(d2['DT'], inplace=True)\n",
    "    d2.drop(labels=['Date', 'variable', 'DT'], axis=1, inplace=True)\n",
    "    d2 = d2.rename({'value':filename.split()[0]}, axis='columns')\n",
    "    # Forward fill missing data \n",
    "    d2.fillna(method='ffill', axis=0, inplace=True)\n",
    "    # Resample data from 15min to 1hour level\n",
    "    # (weather data is available only every hour)\n",
    "    d2 = d2.resample('H').mean()\n",
    "    return d2"
   ]
  },
  {
   "cell_type": "code",
   "execution_count": 7,
   "metadata": {},
   "outputs": [
    {
     "name": "stdout",
     "output_type": "stream",
     "text": [
      "Number of substations: 67\n"
     ]
    }
   ],
   "source": [
    "# Set a path to a directory with the CSV files\n",
    "curr_path = os.getcwd()  # current working directory\n",
    "load_dir = 'csv_files/power_load/'\n",
    "os.chdir(load_dir)\n",
    "files = os.listdir(os.curdir)\n",
    "print('Number of substations: {:d}'.format(len(files)))\n",
    "#print(files)\n",
    "os.chdir(curr_path)"
   ]
  },
  {
   "cell_type": "code",
   "execution_count": 8,
   "metadata": {},
   "outputs": [],
   "source": [
    "# Read pickled geolocations\n",
    "os.chdir('csv_files/')\n",
    "with open('geolocations.pkl', 'rb') as file_name:\n",
    "    lon_lat = pickle.load(file_name)\n",
    "longitudes = lon_lat['lon']\n",
    "latitudes = lon_lat['lat']\n",
    "substations = lon_lat['sub']\n",
    "os.chdir(curr_path)"
   ]
  },
  {
   "cell_type": "code",
   "execution_count": 9,
   "metadata": {},
   "outputs": [],
   "source": [
    "# EXAMPLE: Use only locations in the vicinity of Newcastle\n",
    "newcastle = (-32.928, 151.775)\n",
    "newcastle_airport = (-32.81, 151.84)\n",
    "location_subs = []\n",
    "location_lats = []\n",
    "location_lons = []\n",
    "for sub, lat, lon in zip(substations, latitudes, longitudes):\n",
    "    location = (lat, lon)\n",
    "    dist = distance.great_circle(newcastle, location).km\n",
    "    if dist < 50.:  # 50 km\n",
    "        location_subs.append(sub)\n",
    "        location_lats.append(lat)\n",
    "        location_lons.append(lon)"
   ]
  },
  {
   "cell_type": "code",
   "execution_count": 10,
   "metadata": {},
   "outputs": [
    {
     "name": "stdout",
     "output_type": "stream",
     "text": [
      "Number of substations: 14\n",
      "Kurri 132_11kV FY2018.csv\n",
      "Broadmeadow 132_11kV FY2018.csv\n",
      "Toronto_West 132_11kV FY2018.csv\n",
      "Rathmines 132_11kV FY2018.csv\n",
      "Mayfield_West 132_11kV FY2018.csv\n",
      "Charlestown 132_11kV FY2018.csv\n",
      "Maryland 132_11kV FY2018.csv\n",
      "Charmhaven 132_11kV FY2018.csv\n",
      "Rothbury 132_11kV FY2018.csv\n",
      "Jesmond 132_11kV FY2018.csv\n",
      "Lake_Munmorah 132_11kV FY2018.csv\n",
      "Morisset 132_11kV FY2018.csv\n",
      "Argenton 132_11kV FY2018.csv\n",
      "Adamstown 132_11kV FY2018.csv\n",
      "Done!\n"
     ]
    }
   ],
   "source": [
    "# Process files for the Newcastle substations\n",
    "print('Number of substations: {:d}'.format(len(location_subs)))\n",
    "os.chdir(load_dir)\n",
    "i = 0\n",
    "for station in location_subs:\n",
    "    print(station)\n",
    "    data = restructure_input_data(station)\n",
    "    if i == 0:\n",
    "        df = data.copy()\n",
    "    else:\n",
    "        df = pd.concat([df, data], axis=1)\n",
    "    i += 1\n",
    "os.chdir(curr_path)\n",
    "print('Done!')"
   ]
  },
  {
   "cell_type": "code",
   "execution_count": 11,
   "metadata": {},
   "outputs": [
    {
     "data": {
      "text/html": [
       "<div>\n",
       "<style scoped>\n",
       "    .dataframe tbody tr th:only-of-type {\n",
       "        vertical-align: middle;\n",
       "    }\n",
       "\n",
       "    .dataframe tbody tr th {\n",
       "        vertical-align: top;\n",
       "    }\n",
       "\n",
       "    .dataframe thead th {\n",
       "        text-align: right;\n",
       "    }\n",
       "</style>\n",
       "<table border=\"1\" class=\"dataframe\">\n",
       "  <thead>\n",
       "    <tr style=\"text-align: right;\">\n",
       "      <th></th>\n",
       "      <th>Kurri</th>\n",
       "      <th>Broadmeadow</th>\n",
       "      <th>Toronto_West</th>\n",
       "      <th>Rathmines</th>\n",
       "      <th>Mayfield_West</th>\n",
       "      <th>Charlestown</th>\n",
       "      <th>Maryland</th>\n",
       "      <th>Charmhaven</th>\n",
       "      <th>Rothbury</th>\n",
       "      <th>Jesmond</th>\n",
       "      <th>Lake_Munmorah</th>\n",
       "      <th>Morisset</th>\n",
       "      <th>Argenton</th>\n",
       "      <th>Adamstown</th>\n",
       "    </tr>\n",
       "    <tr>\n",
       "      <th>time</th>\n",
       "      <th></th>\n",
       "      <th></th>\n",
       "      <th></th>\n",
       "      <th></th>\n",
       "      <th></th>\n",
       "      <th></th>\n",
       "      <th></th>\n",
       "      <th></th>\n",
       "      <th></th>\n",
       "      <th></th>\n",
       "      <th></th>\n",
       "      <th></th>\n",
       "      <th></th>\n",
       "      <th></th>\n",
       "    </tr>\n",
       "  </thead>\n",
       "  <tbody>\n",
       "    <tr>\n",
       "      <th>2017-05-01 00:00:00+10:00</th>\n",
       "      <td>9.293187</td>\n",
       "      <td>7.355490</td>\n",
       "      <td>1.532700</td>\n",
       "      <td>5.048857</td>\n",
       "      <td>9.239147</td>\n",
       "      <td>9.248663</td>\n",
       "      <td>3.754263</td>\n",
       "      <td>17.202967</td>\n",
       "      <td>2.970837</td>\n",
       "      <td>14.750807</td>\n",
       "      <td>11.071820</td>\n",
       "      <td>8.309260</td>\n",
       "      <td>11.343457</td>\n",
       "      <td>8.010340</td>\n",
       "    </tr>\n",
       "    <tr>\n",
       "      <th>2017-05-01 01:00:00+10:00</th>\n",
       "      <td>8.921380</td>\n",
       "      <td>7.129977</td>\n",
       "      <td>1.532700</td>\n",
       "      <td>4.396555</td>\n",
       "      <td>9.246168</td>\n",
       "      <td>8.888167</td>\n",
       "      <td>3.368525</td>\n",
       "      <td>14.855965</td>\n",
       "      <td>2.884155</td>\n",
       "      <td>14.559105</td>\n",
       "      <td>9.742450</td>\n",
       "      <td>7.252880</td>\n",
       "      <td>11.364700</td>\n",
       "      <td>8.010340</td>\n",
       "    </tr>\n",
       "    <tr>\n",
       "      <th>2017-05-01 02:00:00+10:00</th>\n",
       "      <td>8.517912</td>\n",
       "      <td>6.686475</td>\n",
       "      <td>1.099477</td>\n",
       "      <td>3.346163</td>\n",
       "      <td>8.156038</td>\n",
       "      <td>7.485578</td>\n",
       "      <td>2.675347</td>\n",
       "      <td>11.802657</td>\n",
       "      <td>2.920272</td>\n",
       "      <td>13.227250</td>\n",
       "      <td>8.213660</td>\n",
       "      <td>6.088737</td>\n",
       "      <td>10.424560</td>\n",
       "      <td>7.726455</td>\n",
       "    </tr>\n",
       "    <tr>\n",
       "      <th>2017-05-01 03:00:00+10:00</th>\n",
       "      <td>8.351537</td>\n",
       "      <td>6.535708</td>\n",
       "      <td>0.978300</td>\n",
       "      <td>2.930630</td>\n",
       "      <td>8.912705</td>\n",
       "      <td>6.721820</td>\n",
       "      <td>2.284195</td>\n",
       "      <td>10.872978</td>\n",
       "      <td>2.793130</td>\n",
       "      <td>12.026525</td>\n",
       "      <td>6.252828</td>\n",
       "      <td>5.541290</td>\n",
       "      <td>9.260480</td>\n",
       "      <td>6.579920</td>\n",
       "    </tr>\n",
       "    <tr>\n",
       "      <th>2017-05-01 04:00:00+10:00</th>\n",
       "      <td>8.511228</td>\n",
       "      <td>6.641385</td>\n",
       "      <td>0.978300</td>\n",
       "      <td>2.930630</td>\n",
       "      <td>8.811488</td>\n",
       "      <td>6.721820</td>\n",
       "      <td>2.287673</td>\n",
       "      <td>10.839945</td>\n",
       "      <td>2.883567</td>\n",
       "      <td>11.754460</td>\n",
       "      <td>5.640360</td>\n",
       "      <td>5.484558</td>\n",
       "      <td>8.770495</td>\n",
       "      <td>6.579920</td>\n",
       "    </tr>\n",
       "  </tbody>\n",
       "</table>\n",
       "</div>"
      ],
      "text/plain": [
       "                              Kurri  Broadmeadow  Toronto_West  Rathmines  \\\n",
       "time                                                                        \n",
       "2017-05-01 00:00:00+10:00  9.293187     7.355490      1.532700   5.048857   \n",
       "2017-05-01 01:00:00+10:00  8.921380     7.129977      1.532700   4.396555   \n",
       "2017-05-01 02:00:00+10:00  8.517912     6.686475      1.099477   3.346163   \n",
       "2017-05-01 03:00:00+10:00  8.351537     6.535708      0.978300   2.930630   \n",
       "2017-05-01 04:00:00+10:00  8.511228     6.641385      0.978300   2.930630   \n",
       "\n",
       "                           Mayfield_West  Charlestown  Maryland  Charmhaven  \\\n",
       "time                                                                          \n",
       "2017-05-01 00:00:00+10:00       9.239147     9.248663  3.754263   17.202967   \n",
       "2017-05-01 01:00:00+10:00       9.246168     8.888167  3.368525   14.855965   \n",
       "2017-05-01 02:00:00+10:00       8.156038     7.485578  2.675347   11.802657   \n",
       "2017-05-01 03:00:00+10:00       8.912705     6.721820  2.284195   10.872978   \n",
       "2017-05-01 04:00:00+10:00       8.811488     6.721820  2.287673   10.839945   \n",
       "\n",
       "                           Rothbury    Jesmond  Lake_Munmorah  Morisset  \\\n",
       "time                                                                      \n",
       "2017-05-01 00:00:00+10:00  2.970837  14.750807      11.071820  8.309260   \n",
       "2017-05-01 01:00:00+10:00  2.884155  14.559105       9.742450  7.252880   \n",
       "2017-05-01 02:00:00+10:00  2.920272  13.227250       8.213660  6.088737   \n",
       "2017-05-01 03:00:00+10:00  2.793130  12.026525       6.252828  5.541290   \n",
       "2017-05-01 04:00:00+10:00  2.883567  11.754460       5.640360  5.484558   \n",
       "\n",
       "                            Argenton  Adamstown  \n",
       "time                                             \n",
       "2017-05-01 00:00:00+10:00  11.343457   8.010340  \n",
       "2017-05-01 01:00:00+10:00  11.364700   8.010340  \n",
       "2017-05-01 02:00:00+10:00  10.424560   7.726455  \n",
       "2017-05-01 03:00:00+10:00   9.260480   6.579920  \n",
       "2017-05-01 04:00:00+10:00   8.770495   6.579920  "
      ]
     },
     "execution_count": 11,
     "metadata": {},
     "output_type": "execute_result"
    }
   ],
   "source": [
    "# Localize datetime index to \"Australia/Sydney\" \n",
    "df.index = df.index.tz_localize(tz='Australia/Sydney', ambiguous='NaT', nonexistent='NaT')\n",
    "df.index.rename('time', inplace=True)\n",
    "df.head()"
   ]
  },
  {
   "cell_type": "markdown",
   "metadata": {},
   "source": [
    "#### DARKSKY: Read weather data from csv files and create a single dataframe"
   ]
  },
  {
   "cell_type": "code",
   "execution_count": 12,
   "metadata": {},
   "outputs": [],
   "source": [
    "def process_json_weather_files(file):\n",
    "    # Read json file into pandas dataframe\n",
    "    weather = pd.read_json(file)\n",
    "    hourly = weather['hourly'].loc['data']\n",
    "    timezone = weather['timezone'].loc['data']\n",
    "    dfh = pd.DataFrame(data=hourly)\n",
    "    dates = pd.to_datetime(dfh['time'], unit='s')\n",
    "    dates = dates.dt.tz_localize(tz='UTC', ambiguous='NaT', nonexistent='NaT')\n",
    "    dates_local = dates.dt.tz_convert(tz=timezone)\n",
    "    data = pd.DataFrame(data=hourly, index=dates_local)\n",
    "    data = data[['cloudCover', 'dewPoint', 'humidity', 'temperature', 'windSpeed', 'icon']]\n",
    "    data.fillna(method='ffill', axis=0, inplace=True)\n",
    "    return data"
   ]
  },
  {
   "cell_type": "code",
   "execution_count": 13,
   "metadata": {},
   "outputs": [
    {
     "name": "stdout",
     "output_type": "stream",
     "text": [
      "Number of weather files: 365\n",
      "Processing ...\n",
      "Done!\n"
     ]
    }
   ],
   "source": [
    "curr_path = os.getcwd()  # current working directory\n",
    "wdir = 'csv_files/darksky/'\n",
    "os.chdir(wdir)\n",
    "files = os.listdir(os.curdir)\n",
    "print('Number of weather files: {:d}'.format(len(files)))\n",
    "print('Processing ...')\n",
    "i = 0\n",
    "for file in sorted(files):\n",
    "    try:\n",
    "        data = process_json_weather_files(file)\n",
    "    except Exception as E:\n",
    "        print(file)\n",
    "        print('Exception:', E)\n",
    "        os.chdir(curr_path)\n",
    "    if i == 0:\n",
    "        dw = data.copy()\n",
    "    else:\n",
    "        dw = pd.concat([dw, data], axis=0)\n",
    "    i += 1\n",
    "os.chdir(curr_path)\n",
    "print('Done!')"
   ]
  },
  {
   "cell_type": "code",
   "execution_count": 14,
   "metadata": {},
   "outputs": [
    {
     "data": {
      "text/html": [
       "<div>\n",
       "<style scoped>\n",
       "    .dataframe tbody tr th:only-of-type {\n",
       "        vertical-align: middle;\n",
       "    }\n",
       "\n",
       "    .dataframe tbody tr th {\n",
       "        vertical-align: top;\n",
       "    }\n",
       "\n",
       "    .dataframe thead th {\n",
       "        text-align: right;\n",
       "    }\n",
       "</style>\n",
       "<table border=\"1\" class=\"dataframe\">\n",
       "  <thead>\n",
       "    <tr style=\"text-align: right;\">\n",
       "      <th></th>\n",
       "      <th>cloudCover</th>\n",
       "      <th>dewPoint</th>\n",
       "      <th>humidity</th>\n",
       "      <th>temperature</th>\n",
       "      <th>windSpeed</th>\n",
       "      <th>icon</th>\n",
       "    </tr>\n",
       "    <tr>\n",
       "      <th>time</th>\n",
       "      <th></th>\n",
       "      <th></th>\n",
       "      <th></th>\n",
       "      <th></th>\n",
       "      <th></th>\n",
       "      <th></th>\n",
       "    </tr>\n",
       "  </thead>\n",
       "  <tbody>\n",
       "    <tr>\n",
       "      <th>2017-05-01 00:00:00+10:00</th>\n",
       "      <td>0.00</td>\n",
       "      <td>53.15</td>\n",
       "      <td>0.94</td>\n",
       "      <td>54.93</td>\n",
       "      <td>0.26</td>\n",
       "      <td>clear-night</td>\n",
       "    </tr>\n",
       "    <tr>\n",
       "      <th>2017-05-01 01:00:00+10:00</th>\n",
       "      <td>0.75</td>\n",
       "      <td>54.08</td>\n",
       "      <td>0.89</td>\n",
       "      <td>57.26</td>\n",
       "      <td>0.00</td>\n",
       "      <td>partly-cloudy-night</td>\n",
       "    </tr>\n",
       "    <tr>\n",
       "      <th>2017-05-01 02:00:00+10:00</th>\n",
       "      <td>0.75</td>\n",
       "      <td>51.79</td>\n",
       "      <td>0.91</td>\n",
       "      <td>54.34</td>\n",
       "      <td>0.03</td>\n",
       "      <td>partly-cloudy-night</td>\n",
       "    </tr>\n",
       "    <tr>\n",
       "      <th>2017-05-01 03:00:00+10:00</th>\n",
       "      <td>0.44</td>\n",
       "      <td>50.43</td>\n",
       "      <td>0.93</td>\n",
       "      <td>52.52</td>\n",
       "      <td>0.00</td>\n",
       "      <td>partly-cloudy-night</td>\n",
       "    </tr>\n",
       "    <tr>\n",
       "      <th>2017-05-01 04:00:00+10:00</th>\n",
       "      <td>0.00</td>\n",
       "      <td>50.73</td>\n",
       "      <td>0.90</td>\n",
       "      <td>53.71</td>\n",
       "      <td>0.00</td>\n",
       "      <td>clear-night</td>\n",
       "    </tr>\n",
       "  </tbody>\n",
       "</table>\n",
       "</div>"
      ],
      "text/plain": [
       "                           cloudCover  dewPoint  humidity  temperature  \\\n",
       "time                                                                     \n",
       "2017-05-01 00:00:00+10:00        0.00     53.15      0.94        54.93   \n",
       "2017-05-01 01:00:00+10:00        0.75     54.08      0.89        57.26   \n",
       "2017-05-01 02:00:00+10:00        0.75     51.79      0.91        54.34   \n",
       "2017-05-01 03:00:00+10:00        0.44     50.43      0.93        52.52   \n",
       "2017-05-01 04:00:00+10:00        0.00     50.73      0.90        53.71   \n",
       "\n",
       "                           windSpeed                 icon  \n",
       "time                                                       \n",
       "2017-05-01 00:00:00+10:00       0.26          clear-night  \n",
       "2017-05-01 01:00:00+10:00       0.00  partly-cloudy-night  \n",
       "2017-05-01 02:00:00+10:00       0.03  partly-cloudy-night  \n",
       "2017-05-01 03:00:00+10:00       0.00  partly-cloudy-night  \n",
       "2017-05-01 04:00:00+10:00       0.00          clear-night  "
      ]
     },
     "execution_count": 14,
     "metadata": {},
     "output_type": "execute_result"
    }
   ],
   "source": [
    "# Resample to align weather dataframe with load time-series dataframe\n",
    "dw = dw.resample('H').last()\n",
    "dw.head()"
   ]
  },
  {
   "cell_type": "markdown",
   "metadata": {},
   "source": [
    "### Concatenate weather and power load data into a single dataframe"
   ]
  },
  {
   "cell_type": "code",
   "execution_count": 15,
   "metadata": {},
   "outputs": [
    {
     "data": {
      "text/html": [
       "<div>\n",
       "<style scoped>\n",
       "    .dataframe tbody tr th:only-of-type {\n",
       "        vertical-align: middle;\n",
       "    }\n",
       "\n",
       "    .dataframe tbody tr th {\n",
       "        vertical-align: top;\n",
       "    }\n",
       "\n",
       "    .dataframe thead th {\n",
       "        text-align: right;\n",
       "    }\n",
       "</style>\n",
       "<table border=\"1\" class=\"dataframe\">\n",
       "  <thead>\n",
       "    <tr style=\"text-align: right;\">\n",
       "      <th></th>\n",
       "      <th>cloudCover</th>\n",
       "      <th>dewPoint</th>\n",
       "      <th>humidity</th>\n",
       "      <th>temperature</th>\n",
       "      <th>windSpeed</th>\n",
       "      <th>icon</th>\n",
       "      <th>Kurri</th>\n",
       "      <th>Broadmeadow</th>\n",
       "      <th>Toronto_West</th>\n",
       "      <th>Rathmines</th>\n",
       "      <th>Mayfield_West</th>\n",
       "      <th>Charlestown</th>\n",
       "      <th>Maryland</th>\n",
       "      <th>Charmhaven</th>\n",
       "      <th>Rothbury</th>\n",
       "      <th>Jesmond</th>\n",
       "      <th>Lake_Munmorah</th>\n",
       "      <th>Morisset</th>\n",
       "      <th>Argenton</th>\n",
       "      <th>Adamstown</th>\n",
       "    </tr>\n",
       "    <tr>\n",
       "      <th>time</th>\n",
       "      <th></th>\n",
       "      <th></th>\n",
       "      <th></th>\n",
       "      <th></th>\n",
       "      <th></th>\n",
       "      <th></th>\n",
       "      <th></th>\n",
       "      <th></th>\n",
       "      <th></th>\n",
       "      <th></th>\n",
       "      <th></th>\n",
       "      <th></th>\n",
       "      <th></th>\n",
       "      <th></th>\n",
       "      <th></th>\n",
       "      <th></th>\n",
       "      <th></th>\n",
       "      <th></th>\n",
       "      <th></th>\n",
       "      <th></th>\n",
       "    </tr>\n",
       "  </thead>\n",
       "  <tbody>\n",
       "    <tr>\n",
       "      <th>2017-05-01 00:00:00+10:00</th>\n",
       "      <td>0.00</td>\n",
       "      <td>53.15</td>\n",
       "      <td>0.94</td>\n",
       "      <td>54.93</td>\n",
       "      <td>0.26</td>\n",
       "      <td>clear-night</td>\n",
       "      <td>9.293187</td>\n",
       "      <td>7.355490</td>\n",
       "      <td>1.532700</td>\n",
       "      <td>5.048857</td>\n",
       "      <td>9.239147</td>\n",
       "      <td>9.248663</td>\n",
       "      <td>3.754263</td>\n",
       "      <td>17.202967</td>\n",
       "      <td>2.970837</td>\n",
       "      <td>14.750807</td>\n",
       "      <td>11.071820</td>\n",
       "      <td>8.309260</td>\n",
       "      <td>11.343457</td>\n",
       "      <td>8.010340</td>\n",
       "    </tr>\n",
       "    <tr>\n",
       "      <th>2017-05-01 01:00:00+10:00</th>\n",
       "      <td>0.75</td>\n",
       "      <td>54.08</td>\n",
       "      <td>0.89</td>\n",
       "      <td>57.26</td>\n",
       "      <td>0.00</td>\n",
       "      <td>partly-cloudy-night</td>\n",
       "      <td>8.921380</td>\n",
       "      <td>7.129977</td>\n",
       "      <td>1.532700</td>\n",
       "      <td>4.396555</td>\n",
       "      <td>9.246168</td>\n",
       "      <td>8.888167</td>\n",
       "      <td>3.368525</td>\n",
       "      <td>14.855965</td>\n",
       "      <td>2.884155</td>\n",
       "      <td>14.559105</td>\n",
       "      <td>9.742450</td>\n",
       "      <td>7.252880</td>\n",
       "      <td>11.364700</td>\n",
       "      <td>8.010340</td>\n",
       "    </tr>\n",
       "    <tr>\n",
       "      <th>2017-05-01 02:00:00+10:00</th>\n",
       "      <td>0.75</td>\n",
       "      <td>51.79</td>\n",
       "      <td>0.91</td>\n",
       "      <td>54.34</td>\n",
       "      <td>0.03</td>\n",
       "      <td>partly-cloudy-night</td>\n",
       "      <td>8.517912</td>\n",
       "      <td>6.686475</td>\n",
       "      <td>1.099477</td>\n",
       "      <td>3.346163</td>\n",
       "      <td>8.156038</td>\n",
       "      <td>7.485578</td>\n",
       "      <td>2.675347</td>\n",
       "      <td>11.802657</td>\n",
       "      <td>2.920272</td>\n",
       "      <td>13.227250</td>\n",
       "      <td>8.213660</td>\n",
       "      <td>6.088737</td>\n",
       "      <td>10.424560</td>\n",
       "      <td>7.726455</td>\n",
       "    </tr>\n",
       "    <tr>\n",
       "      <th>2017-05-01 03:00:00+10:00</th>\n",
       "      <td>0.44</td>\n",
       "      <td>50.43</td>\n",
       "      <td>0.93</td>\n",
       "      <td>52.52</td>\n",
       "      <td>0.00</td>\n",
       "      <td>partly-cloudy-night</td>\n",
       "      <td>8.351537</td>\n",
       "      <td>6.535708</td>\n",
       "      <td>0.978300</td>\n",
       "      <td>2.930630</td>\n",
       "      <td>8.912705</td>\n",
       "      <td>6.721820</td>\n",
       "      <td>2.284195</td>\n",
       "      <td>10.872978</td>\n",
       "      <td>2.793130</td>\n",
       "      <td>12.026525</td>\n",
       "      <td>6.252828</td>\n",
       "      <td>5.541290</td>\n",
       "      <td>9.260480</td>\n",
       "      <td>6.579920</td>\n",
       "    </tr>\n",
       "    <tr>\n",
       "      <th>2017-05-01 04:00:00+10:00</th>\n",
       "      <td>0.00</td>\n",
       "      <td>50.73</td>\n",
       "      <td>0.90</td>\n",
       "      <td>53.71</td>\n",
       "      <td>0.00</td>\n",
       "      <td>clear-night</td>\n",
       "      <td>8.511228</td>\n",
       "      <td>6.641385</td>\n",
       "      <td>0.978300</td>\n",
       "      <td>2.930630</td>\n",
       "      <td>8.811488</td>\n",
       "      <td>6.721820</td>\n",
       "      <td>2.287673</td>\n",
       "      <td>10.839945</td>\n",
       "      <td>2.883567</td>\n",
       "      <td>11.754460</td>\n",
       "      <td>5.640360</td>\n",
       "      <td>5.484558</td>\n",
       "      <td>8.770495</td>\n",
       "      <td>6.579920</td>\n",
       "    </tr>\n",
       "  </tbody>\n",
       "</table>\n",
       "</div>"
      ],
      "text/plain": [
       "                           cloudCover  dewPoint  humidity  temperature  \\\n",
       "time                                                                     \n",
       "2017-05-01 00:00:00+10:00        0.00     53.15      0.94        54.93   \n",
       "2017-05-01 01:00:00+10:00        0.75     54.08      0.89        57.26   \n",
       "2017-05-01 02:00:00+10:00        0.75     51.79      0.91        54.34   \n",
       "2017-05-01 03:00:00+10:00        0.44     50.43      0.93        52.52   \n",
       "2017-05-01 04:00:00+10:00        0.00     50.73      0.90        53.71   \n",
       "\n",
       "                           windSpeed                 icon     Kurri  \\\n",
       "time                                                                  \n",
       "2017-05-01 00:00:00+10:00       0.26          clear-night  9.293187   \n",
       "2017-05-01 01:00:00+10:00       0.00  partly-cloudy-night  8.921380   \n",
       "2017-05-01 02:00:00+10:00       0.03  partly-cloudy-night  8.517912   \n",
       "2017-05-01 03:00:00+10:00       0.00  partly-cloudy-night  8.351537   \n",
       "2017-05-01 04:00:00+10:00       0.00          clear-night  8.511228   \n",
       "\n",
       "                           Broadmeadow  Toronto_West  Rathmines  \\\n",
       "time                                                              \n",
       "2017-05-01 00:00:00+10:00     7.355490      1.532700   5.048857   \n",
       "2017-05-01 01:00:00+10:00     7.129977      1.532700   4.396555   \n",
       "2017-05-01 02:00:00+10:00     6.686475      1.099477   3.346163   \n",
       "2017-05-01 03:00:00+10:00     6.535708      0.978300   2.930630   \n",
       "2017-05-01 04:00:00+10:00     6.641385      0.978300   2.930630   \n",
       "\n",
       "                           Mayfield_West  Charlestown  Maryland  Charmhaven  \\\n",
       "time                                                                          \n",
       "2017-05-01 00:00:00+10:00       9.239147     9.248663  3.754263   17.202967   \n",
       "2017-05-01 01:00:00+10:00       9.246168     8.888167  3.368525   14.855965   \n",
       "2017-05-01 02:00:00+10:00       8.156038     7.485578  2.675347   11.802657   \n",
       "2017-05-01 03:00:00+10:00       8.912705     6.721820  2.284195   10.872978   \n",
       "2017-05-01 04:00:00+10:00       8.811488     6.721820  2.287673   10.839945   \n",
       "\n",
       "                           Rothbury    Jesmond  Lake_Munmorah  Morisset  \\\n",
       "time                                                                      \n",
       "2017-05-01 00:00:00+10:00  2.970837  14.750807      11.071820  8.309260   \n",
       "2017-05-01 01:00:00+10:00  2.884155  14.559105       9.742450  7.252880   \n",
       "2017-05-01 02:00:00+10:00  2.920272  13.227250       8.213660  6.088737   \n",
       "2017-05-01 03:00:00+10:00  2.793130  12.026525       6.252828  5.541290   \n",
       "2017-05-01 04:00:00+10:00  2.883567  11.754460       5.640360  5.484558   \n",
       "\n",
       "                            Argenton  Adamstown  \n",
       "time                                             \n",
       "2017-05-01 00:00:00+10:00  11.343457   8.010340  \n",
       "2017-05-01 01:00:00+10:00  11.364700   8.010340  \n",
       "2017-05-01 02:00:00+10:00  10.424560   7.726455  \n",
       "2017-05-01 03:00:00+10:00   9.260480   6.579920  \n",
       "2017-05-01 04:00:00+10:00   8.770495   6.579920  "
      ]
     },
     "execution_count": 15,
     "metadata": {},
     "output_type": "execute_result"
    }
   ],
   "source": [
    "dwdf = pd.concat([dw, df], join='inner', axis=1)\n",
    "#dwdf = pd.concat([dw, df_cluster], join='inner', axis=1)  # using cluster analysis\n",
    "dwdf.head()"
   ]
  },
  {
   "cell_type": "code",
   "execution_count": 16,
   "metadata": {},
   "outputs": [
    {
     "data": {
      "text/plain": [
       "(8758, 20)"
      ]
     },
     "execution_count": 16,
     "metadata": {},
     "output_type": "execute_result"
    }
   ],
   "source": [
    "dwdf.values.shape"
   ]
  },
  {
   "cell_type": "markdown",
   "metadata": {},
   "source": [
    "### Features engineering (time-lags)"
   ]
  },
  {
   "cell_type": "code",
   "execution_count": 17,
   "metadata": {},
   "outputs": [],
   "source": [
    "# EXAMPLE Substation\n",
    "station = 'Jesmond'\n",
    "#station = 'Charmhaven'  # Alternative"
   ]
  },
  {
   "cell_type": "code",
   "execution_count": 18,
   "metadata": {},
   "outputs": [
    {
     "data": {
      "text/html": [
       "<div>\n",
       "<style scoped>\n",
       "    .dataframe tbody tr th:only-of-type {\n",
       "        vertical-align: middle;\n",
       "    }\n",
       "\n",
       "    .dataframe tbody tr th {\n",
       "        vertical-align: top;\n",
       "    }\n",
       "\n",
       "    .dataframe thead th {\n",
       "        text-align: right;\n",
       "    }\n",
       "</style>\n",
       "<table border=\"1\" class=\"dataframe\">\n",
       "  <thead>\n",
       "    <tr style=\"text-align: right;\">\n",
       "      <th></th>\n",
       "      <th>temperature</th>\n",
       "      <th>humidity</th>\n",
       "      <th>dewPoint</th>\n",
       "      <th>windSpeed</th>\n",
       "      <th>Jesmond</th>\n",
       "      <th>temperature_1h</th>\n",
       "      <th>temperature_2h</th>\n",
       "      <th>temperature_3h</th>\n",
       "      <th>temperature_4h</th>\n",
       "      <th>temperature_5h</th>\n",
       "      <th>...</th>\n",
       "      <th>mnth_sin</th>\n",
       "      <th>mnth_cos</th>\n",
       "      <th>clear-day</th>\n",
       "      <th>clear-night</th>\n",
       "      <th>cloudy</th>\n",
       "      <th>fog</th>\n",
       "      <th>partly-cloudy-day</th>\n",
       "      <th>partly-cloudy-night</th>\n",
       "      <th>rain</th>\n",
       "      <th>wind</th>\n",
       "    </tr>\n",
       "    <tr>\n",
       "      <th>time</th>\n",
       "      <th></th>\n",
       "      <th></th>\n",
       "      <th></th>\n",
       "      <th></th>\n",
       "      <th></th>\n",
       "      <th></th>\n",
       "      <th></th>\n",
       "      <th></th>\n",
       "      <th></th>\n",
       "      <th></th>\n",
       "      <th></th>\n",
       "      <th></th>\n",
       "      <th></th>\n",
       "      <th></th>\n",
       "      <th></th>\n",
       "      <th></th>\n",
       "      <th></th>\n",
       "      <th></th>\n",
       "      <th></th>\n",
       "      <th></th>\n",
       "      <th></th>\n",
       "    </tr>\n",
       "  </thead>\n",
       "  <tbody>\n",
       "    <tr>\n",
       "      <th>2017-05-08 00:00:00+10:00</th>\n",
       "      <td>54.03</td>\n",
       "      <td>0.79</td>\n",
       "      <td>47.76</td>\n",
       "      <td>1.44</td>\n",
       "      <td>15.021013</td>\n",
       "      <td>55.68</td>\n",
       "      <td>55.31</td>\n",
       "      <td>57.45</td>\n",
       "      <td>60.94</td>\n",
       "      <td>63.67</td>\n",
       "      <td>...</td>\n",
       "      <td>0.866025</td>\n",
       "      <td>-0.5</td>\n",
       "      <td>0</td>\n",
       "      <td>0</td>\n",
       "      <td>1</td>\n",
       "      <td>0</td>\n",
       "      <td>0</td>\n",
       "      <td>0</td>\n",
       "      <td>0</td>\n",
       "      <td>0</td>\n",
       "    </tr>\n",
       "    <tr>\n",
       "      <th>2017-05-08 01:00:00+10:00</th>\n",
       "      <td>53.82</td>\n",
       "      <td>0.84</td>\n",
       "      <td>49.05</td>\n",
       "      <td>0.00</td>\n",
       "      <td>13.889565</td>\n",
       "      <td>54.03</td>\n",
       "      <td>55.68</td>\n",
       "      <td>55.31</td>\n",
       "      <td>57.45</td>\n",
       "      <td>60.94</td>\n",
       "      <td>...</td>\n",
       "      <td>0.866025</td>\n",
       "      <td>-0.5</td>\n",
       "      <td>0</td>\n",
       "      <td>0</td>\n",
       "      <td>1</td>\n",
       "      <td>0</td>\n",
       "      <td>0</td>\n",
       "      <td>0</td>\n",
       "      <td>0</td>\n",
       "      <td>0</td>\n",
       "    </tr>\n",
       "    <tr>\n",
       "      <th>2017-05-08 02:00:00+10:00</th>\n",
       "      <td>51.79</td>\n",
       "      <td>0.82</td>\n",
       "      <td>46.39</td>\n",
       "      <td>0.03</td>\n",
       "      <td>12.235263</td>\n",
       "      <td>53.82</td>\n",
       "      <td>54.03</td>\n",
       "      <td>55.68</td>\n",
       "      <td>55.31</td>\n",
       "      <td>57.45</td>\n",
       "      <td>...</td>\n",
       "      <td>0.866025</td>\n",
       "      <td>-0.5</td>\n",
       "      <td>0</td>\n",
       "      <td>0</td>\n",
       "      <td>1</td>\n",
       "      <td>0</td>\n",
       "      <td>0</td>\n",
       "      <td>0</td>\n",
       "      <td>0</td>\n",
       "      <td>0</td>\n",
       "    </tr>\n",
       "    <tr>\n",
       "      <th>2017-05-08 03:00:00+10:00</th>\n",
       "      <td>50.15</td>\n",
       "      <td>0.87</td>\n",
       "      <td>46.32</td>\n",
       "      <td>1.49</td>\n",
       "      <td>11.728682</td>\n",
       "      <td>51.79</td>\n",
       "      <td>53.82</td>\n",
       "      <td>54.03</td>\n",
       "      <td>55.68</td>\n",
       "      <td>55.31</td>\n",
       "      <td>...</td>\n",
       "      <td>0.866025</td>\n",
       "      <td>-0.5</td>\n",
       "      <td>0</td>\n",
       "      <td>0</td>\n",
       "      <td>0</td>\n",
       "      <td>0</td>\n",
       "      <td>0</td>\n",
       "      <td>1</td>\n",
       "      <td>0</td>\n",
       "      <td>0</td>\n",
       "    </tr>\n",
       "    <tr>\n",
       "      <th>2017-05-08 04:00:00+10:00</th>\n",
       "      <td>51.83</td>\n",
       "      <td>0.75</td>\n",
       "      <td>44.17</td>\n",
       "      <td>1.03</td>\n",
       "      <td>11.697333</td>\n",
       "      <td>50.15</td>\n",
       "      <td>51.79</td>\n",
       "      <td>53.82</td>\n",
       "      <td>54.03</td>\n",
       "      <td>55.68</td>\n",
       "      <td>...</td>\n",
       "      <td>0.866025</td>\n",
       "      <td>-0.5</td>\n",
       "      <td>0</td>\n",
       "      <td>0</td>\n",
       "      <td>0</td>\n",
       "      <td>0</td>\n",
       "      <td>0</td>\n",
       "      <td>1</td>\n",
       "      <td>0</td>\n",
       "      <td>0</td>\n",
       "    </tr>\n",
       "  </tbody>\n",
       "</table>\n",
       "<p>5 rows × 145 columns</p>\n",
       "</div>"
      ],
      "text/plain": [
       "                           temperature  humidity  dewPoint  windSpeed  \\\n",
       "time                                                                    \n",
       "2017-05-08 00:00:00+10:00        54.03      0.79     47.76       1.44   \n",
       "2017-05-08 01:00:00+10:00        53.82      0.84     49.05       0.00   \n",
       "2017-05-08 02:00:00+10:00        51.79      0.82     46.39       0.03   \n",
       "2017-05-08 03:00:00+10:00        50.15      0.87     46.32       1.49   \n",
       "2017-05-08 04:00:00+10:00        51.83      0.75     44.17       1.03   \n",
       "\n",
       "                             Jesmond  temperature_1h  temperature_2h  \\\n",
       "time                                                                   \n",
       "2017-05-08 00:00:00+10:00  15.021013           55.68           55.31   \n",
       "2017-05-08 01:00:00+10:00  13.889565           54.03           55.68   \n",
       "2017-05-08 02:00:00+10:00  12.235263           53.82           54.03   \n",
       "2017-05-08 03:00:00+10:00  11.728682           51.79           53.82   \n",
       "2017-05-08 04:00:00+10:00  11.697333           50.15           51.79   \n",
       "\n",
       "                           temperature_3h  temperature_4h  temperature_5h  \\\n",
       "time                                                                        \n",
       "2017-05-08 00:00:00+10:00           57.45           60.94           63.67   \n",
       "2017-05-08 01:00:00+10:00           55.31           57.45           60.94   \n",
       "2017-05-08 02:00:00+10:00           55.68           55.31           57.45   \n",
       "2017-05-08 03:00:00+10:00           54.03           55.68           55.31   \n",
       "2017-05-08 04:00:00+10:00           53.82           54.03           55.68   \n",
       "\n",
       "                           ...  mnth_sin  mnth_cos  clear-day  clear-night  \\\n",
       "time                       ...                                               \n",
       "2017-05-08 00:00:00+10:00  ...  0.866025      -0.5          0            0   \n",
       "2017-05-08 01:00:00+10:00  ...  0.866025      -0.5          0            0   \n",
       "2017-05-08 02:00:00+10:00  ...  0.866025      -0.5          0            0   \n",
       "2017-05-08 03:00:00+10:00  ...  0.866025      -0.5          0            0   \n",
       "2017-05-08 04:00:00+10:00  ...  0.866025      -0.5          0            0   \n",
       "\n",
       "                           cloudy  fog  partly-cloudy-day  \\\n",
       "time                                                        \n",
       "2017-05-08 00:00:00+10:00       1    0                  0   \n",
       "2017-05-08 01:00:00+10:00       1    0                  0   \n",
       "2017-05-08 02:00:00+10:00       1    0                  0   \n",
       "2017-05-08 03:00:00+10:00       0    0                  0   \n",
       "2017-05-08 04:00:00+10:00       0    0                  0   \n",
       "\n",
       "                           partly-cloudy-night  rain  wind  \n",
       "time                                                        \n",
       "2017-05-08 00:00:00+10:00                    0     0     0  \n",
       "2017-05-08 01:00:00+10:00                    0     0     0  \n",
       "2017-05-08 02:00:00+10:00                    0     0     0  \n",
       "2017-05-08 03:00:00+10:00                    1     0     0  \n",
       "2017-05-08 04:00:00+10:00                    1     0     0  \n",
       "\n",
       "[5 rows x 145 columns]"
      ]
     },
     "execution_count": 18,
     "metadata": {},
     "output_type": "execute_result"
    }
   ],
   "source": [
    "main_features = True\n",
    "if main_features:\n",
    "    # Use only the following main weather features\n",
    "    aggdata = dwdf[['temperature', 'humidity', 'dewPoint', 'windSpeed', station]].copy()\n",
    "else:\n",
    "    # Use extended weather features (main features + cloudCover)\n",
    "    aggdata = dwdf[['temperature', 'humidity', 'dewPoint', 'windSpeed', 'cloudCover', station]].copy()\n",
    "# Day ahead predictions (24h with hour measurements)\n",
    "for col in aggdata.columns:\n",
    "    for i in range(1,24):\n",
    "        # Shift data by lag of 1 to 24 hours\n",
    "        aggdata[col+'_{:d}h'.format(i)] = aggdata[col].shift(periods=i)  # time-lag\n",
    "    aggdata[col+'_diff'] = aggdata[col].diff()  # difference\n",
    "    aggdata[col+'_week']  =aggdata[col].shift(periods=24*7)  # previous week\n",
    "# Hour-of-day indicators with cyclical transform\n",
    "dayhour_ind = aggdata.index.hour\n",
    "aggdata['hr_sin'] = np.sin(dayhour_ind*(2.*np.pi/24))\n",
    "aggdata['hr_cos'] = np.cos(dayhour_ind*(2.*np.pi/24))\n",
    "# Day-of-week indicators with cyclical transform\n",
    "weekday_ind = aggdata.index.weekday\n",
    "aggdata['week_sin'] = np.sin(weekday_ind*(2.*np.pi/7))\n",
    "aggdata['week_cos'] = np.cos(weekday_ind*(2.*np.pi/7))\n",
    "# Weekend indicator\n",
    "aggdata['weekend'] = np.asarray([0 if ind <= 4 else 1 for ind in weekday_ind])\n",
    "# Month indicators with cyclical transform\n",
    "month_ind = aggdata.index.month\n",
    "aggdata['mnth_sin'] = np.sin((month_ind-1)*(2.*np.pi/12))\n",
    "aggdata['mnth_cos'] = np.cos((month_ind-1)*(2.*np.pi/12))\n",
    "# one-hot-encode weather description (icon variable)\n",
    "icons = pd.get_dummies(dwdf['icon'])\n",
    "aggdata = aggdata.join(icons)\n",
    "# Drop rows with NaN values\n",
    "aggdata.dropna(inplace=True)\n",
    "aggdata.head()"
   ]
  },
  {
   "cell_type": "markdown",
   "metadata": {},
   "source": [
    "### Forecasting load profile for a single substation"
   ]
  },
  {
   "cell_type": "code",
   "execution_count": 19,
   "metadata": {},
   "outputs": [],
   "source": [
    "def dates_to_idx(timelist, start_date):\n",
    "    reference_time = pd.to_datetime(start_date)\n",
    "    time_delta = pd.Timedelta(1, 'h')\n",
    "    timelist = timelist.dt.tz_localize(None)\n",
    "    t = (timelist - reference_time) / time_delta\n",
    "    return np.asarray(t)"
   ]
  },
  {
   "cell_type": "code",
   "execution_count": 20,
   "metadata": {},
   "outputs": [
    {
     "name": "stdout",
     "output_type": "stream",
     "text": [
      "2017-05-08 2017-06-03 2017-06-03 2017-06-05 2017-06-05 2017-06-06\n"
     ]
    }
   ],
   "source": [
    "# DATASETS DETERMINED USING THE WINDOW METHOD\n",
    "features = [col for col in aggdata.columns if col != station]\n",
    "aggdata['time'] = aggdata.index\n",
    "window_days = 30  # width of the dataset window in days\n",
    "# this window determines the size of the dataset that\n",
    "# will be split into the training and validation sets\n",
    "train_percent = 0.9  # percent of the dataset used for training\n",
    "start_date = '2017-05-08'  # start date\n",
    "t = dates_to_idx(aggdata['time'], start_date)\n",
    "aggdata = aggdata.assign(t=t)\n",
    "# Training period\n",
    "st = pd.to_datetime(start_date)\n",
    "et = st + dt.timedelta(days=int(train_percent*window_days)-1)\n",
    "X_train = aggdata[features].loc[st:et].values\n",
    "y_train = aggdata[station].loc[st:et].values\n",
    "t_train = aggdata['t'].loc[st:et].values\n",
    "# Validation period\n",
    "sv = et #+ dt.timedelta(days=1)\n",
    "ev = sv + dt.timedelta(days=int((1-train_percent)*window_days))\n",
    "X_test = aggdata[features].loc[sv:ev].values  # validation\n",
    "y_test = aggdata[station].loc[sv:ev].values   # validation\n",
    "t_test = aggdata['t'].loc[sv:ev].values\n",
    "# Testing period (one day after)\n",
    "sn = ev #+ dt.timedelta(days=1)\n",
    "en = sn + dt.timedelta(days=1)\n",
    "X_new = aggdata[features].loc[sn:en].values\n",
    "y_true = aggdata[station].loc[sn:en].values\n",
    "t_new = aggdata['t'].loc[sn:en].values\n",
    "print(st.date(), et.date(), sv.date(), ev.date(), sn.date(), en.date())"
   ]
  },
  {
   "cell_type": "code",
   "execution_count": 21,
   "metadata": {},
   "outputs": [
    {
     "data": {
      "image/png": "[encoded data removed]",
      "text/plain": [
       "<Figure size 576x324 with 2 Axes>"
      ]
     },
     "metadata": {
      "needs_background": "light"
     },
     "output_type": "display_data"
    }
   ],
   "source": [
    "d = '2017-08-22'  # arbitrary day\n",
    "fig, ax = plt.subplots(figsize=(8,4.5))\n",
    "ax2 = ax.twinx()\n",
    "ax.set_title(station+' substation', fontweight='bold')\n",
    "l1 = dwdf['temperature'].loc[d].plot(ax=ax2, c='firebrick', lw=2, label='Temp')\n",
    "l2 = dwdf[station].loc[d].plot(ax=ax, c='royalblue', lw=2, label='Load')\n",
    "ax.legend(loc='upper left')\n",
    "ax2.legend(loc='upper right')\n",
    "ax2.set_ylabel('Temperature (F)', fontdict={'weight':'bold', 'color':'firebrick', 'size':11})\n",
    "ax.set_ylabel('Load (MW)', fontdict={'weight':'bold', 'color':'royalblue', 'size':11})\n",
    "#ax.set_xlabel('Date')\n",
    "ax.grid(which='major', axis='x')\n",
    "plt.tight_layout()\n",
    "plt.show()"
   ]
  },
  {
   "cell_type": "code",
   "execution_count": 22,
   "metadata": {},
   "outputs": [
    {
     "data": {
      "image/png": "[encoded data removed]",
      "text/plain": [
       "<Figure size 396x374.4 with 1 Axes>"
      ]
     },
     "metadata": {
      "needs_background": "light"
     },
     "output_type": "display_data"
    }
   ],
   "source": [
    "fig, ax = plt.subplots(figsize=(5.5,5.2))\n",
    "ax.scatter(dwdf['temperature'], dwdf[station],\n",
    "           s=10, c='steelblue', marker='o', alpha=0.5)\n",
    "ax.set_title(station+' substation', fontweight='bold')\n",
    "ax.set_xlabel('Temperature (F)')\n",
    "ax.set_ylabel('Load (MW)')\n",
    "#ax.grid(which='major', axis='both')\n",
    "fig.tight_layout()\n",
    "plt.show()"
   ]
  },
  {
   "cell_type": "markdown",
   "metadata": {},
   "source": [
    "## Neural Network Architectures with functional `tf.keras` API"
   ]
  },
  {
   "cell_type": "code",
   "execution_count": 23,
   "metadata": {},
   "outputs": [],
   "source": [
    "scaler = StandardScaler()\n",
    "X_train_ = scaler.fit_transform(X_train)\n",
    "X_test_ = scaler.transform(X_test)\n",
    "X_new_ = scaler.transform(X_new)"
   ]
  },
  {
   "cell_type": "markdown",
   "metadata": {},
   "source": [
    "### Convolutional neural networks (LSTM or GRU layers)"
   ]
  },
  {
   "cell_type": "code",
   "execution_count": 24,
   "metadata": {},
   "outputs": [
    {
     "data": {
      "text/plain": [
       "(625, 1, 144)"
      ]
     },
     "execution_count": 24,
     "metadata": {},
     "output_type": "execute_result"
    }
   ],
   "source": [
    "X_train_seq = X_train_.reshape(X_train_.shape[0], 1, X_train_.shape[1])\n",
    "X_train_seq.shape"
   ]
  },
  {
   "cell_type": "code",
   "execution_count": 25,
   "metadata": {},
   "outputs": [
    {
     "data": {
      "text/plain": [
       "(49, 1, 144)"
      ]
     },
     "execution_count": 25,
     "metadata": {},
     "output_type": "execute_result"
    }
   ],
   "source": [
    "X_test_seq = X_test_.reshape(X_test_.shape[0], 1, X_test_.shape[1])\n",
    "X_test_seq.shape"
   ]
  },
  {
   "cell_type": "markdown",
   "metadata": {},
   "source": [
    "#### Simple network"
   ]
  },
  {
   "cell_type": "code",
   "execution_count": null,
   "metadata": {},
   "outputs": [],
   "source": [
    "BATCH_SIZE = 1\n",
    "input_layer = keras.layers.Input(shape=(X_train_seq.shape[1], X_train_seq.shape[2]), batch_size=BATCH_SIZE)\n",
    "x = keras.layers.LSTM(64, activation='elu', dropout=0.1, recurrent_dropout=0.1, stateful=True)(input_layer)\n",
    "output_layer = keras.layers.Dense(1)(x)\n",
    "model = keras.models.Model(inputs=input_layer, outputs=output_layer)\n",
    "model.compile(loss='mae', optimizer='adam', metrics=['mape'])"
   ]
  },
  {
   "cell_type": "markdown",
   "metadata": {},
   "source": [
    "#### Deep network (stacking layers)"
   ]
  },
  {
   "cell_type": "code",
   "execution_count": 26,
   "metadata": {},
   "outputs": [],
   "source": [
    "BATCH_SIZE = 1\n",
    "input_layer = keras.layers.Input(shape=(X_train_seq.shape[1], X_train_seq.shape[2]), batch_size=BATCH_SIZE)\n",
    "x = keras.layers.GRU(32, activation='elu', dropout=0.1, recurrent_dropout=0.1, \n",
    "                     stateful=True, return_sequences=True)(input_layer)\n",
    "x = keras.layers.GRU(64, activation='elu', dropout=0.1, recurrent_dropout=0.1, stateful=True)(x)\n",
    "output_layer = keras.layers.Dense(1)(x)\n",
    "model = keras.models.Model(inputs=input_layer, outputs=output_layer)\n",
    "model.compile(loss='mae', optimizer='adam', metrics=['mape'])"
   ]
  },
  {
   "cell_type": "code",
   "execution_count": 27,
   "metadata": {},
   "outputs": [
    {
     "name": "stdout",
     "output_type": "stream",
     "text": [
      "EPOCH: 1/50\n",
      "Train on 625 samples, validate on 49 samples\n",
      "625/625 [==============================] - 9s 14ms/sample - loss: 4.8651 - mape: 28.1581 - val_loss: 4.5046 - val_mape: 24.6144\n",
      "EPOCH: 2/50\n",
      "Train on 625 samples, validate on 49 samples\n",
      "625/625 [==============================] - 5s 8ms/sample - loss: 2.3235 - mape: 13.5793 - val_loss: 1.9896 - val_mape: 10.0543\n",
      "EPOCH: 3/50\n",
      "Train on 625 samples, validate on 49 samples\n",
      "625/625 [==============================] - 5s 9ms/sample - loss: 1.8720 - mape: 10.7561 - val_loss: 3.3716 - val_mape: 17.3282\n",
      "EPOCH: 4/50\n",
      "Train on 625 samples, validate on 49 samples\n",
      "625/625 [==============================] - 5s 9ms/sample - loss: 1.8628 - mape: 10.6009 - val_loss: 2.6927 - val_mape: 13.8628\n",
      "EPOCH: 5/50\n",
      "Train on 625 samples, validate on 49 samples\n",
      "625/625 [==============================] - 6s 10ms/sample - loss: 2.2418 - mape: 12.9141 - val_loss: 1.8584 - val_mape: 9.8573\n",
      "EPOCH: 6/50\n",
      "Train on 625 samples, validate on 49 samples\n",
      "625/625 [==============================] - 6s 10ms/sample - loss: 1.6911 - mape: 9.5317 - val_loss: 1.3203 - val_mape: 7.0253\n",
      "EPOCH: 7/50\n",
      "Train on 625 samples, validate on 49 samples\n",
      "625/625 [==============================] - 6s 9ms/sample - loss: 1.2752 - mape: 7.1025 - val_loss: 2.6533 - val_mape: 15.3000\n",
      "EPOCH: 8/50\n",
      "Train on 625 samples, validate on 49 samples\n",
      "625/625 [==============================] - 6s 9ms/sample - loss: 1.8523 - mape: 10.4283 - val_loss: 1.9412 - val_mape: 10.0829\n",
      "EPOCH: 9/50\n",
      "Train on 625 samples, validate on 49 samples\n",
      "625/625 [==============================] - 6s 10ms/sample - loss: 1.4978 - mape: 8.3898 - val_loss: 1.7289 - val_mape: 8.9311\n",
      "EPOCH: 10/50\n",
      "Train on 625 samples, validate on 49 samples\n",
      "625/625 [==============================] - 7s 11ms/sample - loss: 1.5959 - mape: 9.2419 - val_loss: 1.3632 - val_mape: 7.1663\n",
      "EPOCH: 11/50\n",
      "Train on 625 samples, validate on 49 samples\n",
      "625/625 [==============================] - 7s 11ms/sample - loss: 1.1873 - mape: 6.4925 - val_loss: 1.5526 - val_mape: 8.6890\n",
      "EPOCH: 12/50\n",
      "Train on 625 samples, validate on 49 samples\n",
      "625/625 [==============================] - 8s 12ms/sample - loss: 1.3134 - mape: 7.4671 - val_loss: 1.3423 - val_mape: 7.3683\n",
      "EPOCH: 13/50\n",
      "Train on 625 samples, validate on 49 samples\n",
      "625/625 [==============================] - 8s 13ms/sample - loss: 1.0147 - mape: 5.5899 - val_loss: 1.8211 - val_mape: 11.1328\n",
      "EPOCH: 14/50\n",
      "Train on 625 samples, validate on 49 samples\n",
      "625/625 [==============================] - 8s 12ms/sample - loss: 0.8895 - mape: 4.9791 - val_loss: 3.5197 - val_mape: 18.7417\n",
      "EPOCH: 15/50\n",
      "Train on 625 samples, validate on 49 samples\n",
      "625/625 [==============================] - 6s 10ms/sample - loss: 0.9360 - mape: 5.1835 - val_loss: 1.6206 - val_mape: 9.4257\n",
      "EPOCH: 16/50\n",
      "Train on 625 samples, validate on 49 samples\n",
      "625/625 [==============================] - 7s 11ms/sample - loss: 0.8864 - mape: 5.0505 - val_loss: 1.1847 - val_mape: 6.4572\n",
      "EPOCH: 17/50\n",
      "Train on 625 samples, validate on 49 samples\n",
      "625/625 [==============================] - 11s 18ms/sample - loss: 0.8453 - mape: 4.7739 - val_loss: 1.3205 - val_mape: 6.9771\n",
      "EPOCH: 18/50\n",
      "Train on 625 samples, validate on 49 samples\n",
      "625/625 [==============================] - 7s 11ms/sample - loss: 0.8774 - mape: 4.8969 - val_loss: 1.4661 - val_mape: 8.9397\n",
      "EPOCH: 19/50\n",
      "Train on 625 samples, validate on 49 samples\n",
      "625/625 [==============================] - 6s 10ms/sample - loss: 0.9203 - mape: 5.2905 - val_loss: 1.2322 - val_mape: 6.9979\n",
      "EPOCH: 20/50\n",
      "Train on 625 samples, validate on 49 samples\n",
      "625/625 [==============================] - 6s 10ms/sample - loss: 0.8670 - mape: 4.7923 - val_loss: 1.4410 - val_mape: 7.9731\n",
      "EPOCH: 21/50\n",
      "Train on 625 samples, validate on 49 samples\n",
      "625/625 [==============================] - 7s 11ms/sample - loss: 0.7224 - mape: 4.0293 - val_loss: 1.3362 - val_mape: 6.9895\n",
      "EPOCH: 22/50\n",
      "Train on 625 samples, validate on 49 samples\n",
      "625/625 [==============================] - 7s 11ms/sample - loss: 0.7521 - mape: 4.2929 - val_loss: 1.0428 - val_mape: 5.4387\n",
      "EPOCH: 23/50\n",
      "Train on 625 samples, validate on 49 samples\n",
      "625/625 [==============================] - 9s 15ms/sample - loss: 0.7740 - mape: 4.4130 - val_loss: 2.4574 - val_mape: 14.6628\n",
      "EPOCH: 24/50\n",
      "Train on 625 samples, validate on 49 samples\n",
      "625/625 [==============================] - 9s 14ms/sample - loss: 0.7487 - mape: 4.2616 - val_loss: 1.4700 - val_mape: 8.7263\n",
      "EPOCH: 25/50\n",
      "Train on 625 samples, validate on 49 samples\n",
      "625/625 [==============================] - 8s 13ms/sample - loss: 0.8112 - mape: 4.6067 - val_loss: 0.9816 - val_mape: 5.6742\n",
      "EPOCH: 26/50\n",
      "Train on 625 samples, validate on 49 samples\n",
      "625/625 [==============================] - 10s 17ms/sample - loss: 0.6601 - mape: 3.7264 - val_loss: 1.2577 - val_mape: 7.2478\n",
      "EPOCH: 27/50\n",
      "Train on 625 samples, validate on 49 samples\n",
      "625/625 [==============================] - 7s 11ms/sample - loss: 0.7070 - mape: 4.0152 - val_loss: 1.0112 - val_mape: 5.7107\n",
      "EPOCH: 28/50\n",
      "Train on 625 samples, validate on 49 samples\n",
      "625/625 [==============================] - 7s 11ms/sample - loss: 0.8148 - mape: 4.5460 - val_loss: 0.9203 - val_mape: 5.2612\n",
      "EPOCH: 29/50\n",
      "Train on 625 samples, validate on 49 samples\n",
      "625/625 [==============================] - 8s 13ms/sample - loss: 0.7384 - mape: 4.1595 - val_loss: 1.1466 - val_mape: 6.5257\n",
      "EPOCH: 30/50\n",
      "Train on 625 samples, validate on 49 samples\n",
      "625/625 [==============================] - 11s 17ms/sample - loss: 0.6897 - mape: 3.9185 - val_loss: 0.8278 - val_mape: 4.8184\n",
      "EPOCH: 31/50\n",
      "Train on 625 samples, validate on 49 samples\n",
      "625/625 [==============================] - 9s 14ms/sample - loss: 0.7822 - mape: 4.4558 - val_loss: 1.5301 - val_mape: 8.7087\n",
      "EPOCH: 32/50\n",
      "Train on 625 samples, validate on 49 samples\n",
      "625/625 [==============================] - 8s 13ms/sample - loss: 0.7874 - mape: 4.5275 - val_loss: 1.2769 - val_mape: 6.7176\n",
      "EPOCH: 33/50\n",
      "Train on 625 samples, validate on 49 samples\n",
      "625/625 [==============================] - 6s 10ms/sample - loss: 0.6919 - mape: 3.9197 - val_loss: 1.0539 - val_mape: 6.1103\n",
      "EPOCH: 34/50\n",
      "Train on 625 samples, validate on 49 samples\n",
      "625/625 [==============================] - 8s 12ms/sample - loss: 0.7674 - mape: 4.3477 - val_loss: 1.1273 - val_mape: 5.7975\n",
      "EPOCH: 35/50\n",
      "Train on 625 samples, validate on 49 samples\n",
      "625/625 [==============================] - 7s 11ms/sample - loss: 0.6034 - mape: 3.3655 - val_loss: 1.2545 - val_mape: 6.9626\n",
      "EPOCH: 36/50\n",
      "Train on 625 samples, validate on 49 samples\n",
      "625/625 [==============================] - 8s 14ms/sample - loss: 0.6574 - mape: 3.7406 - val_loss: 1.1146 - val_mape: 6.0719\n",
      "EPOCH: 37/50\n",
      "Train on 625 samples, validate on 49 samples\n",
      "625/625 [==============================] - 7s 12ms/sample - loss: 0.6677 - mape: 3.8473 - val_loss: 1.1893 - val_mape: 6.1863\n",
      "EPOCH: 38/50\n",
      "Train on 625 samples, validate on 49 samples\n",
      "625/625 [==============================] - 8s 13ms/sample - loss: 0.7238 - mape: 3.9554 - val_loss: 0.9829 - val_mape: 5.4286\n",
      "EPOCH: 39/50\n",
      "Train on 625 samples, validate on 49 samples\n",
      "625/625 [==============================] - 9s 14ms/sample - loss: 0.6588 - mape: 3.6779 - val_loss: 0.9203 - val_mape: 5.0535\n",
      "EPOCH: 40/50\n",
      "Train on 625 samples, validate on 49 samples\n",
      "625/625 [==============================] - 9s 15ms/sample - loss: 0.5776 - mape: 3.3028 - val_loss: 0.8792 - val_mape: 4.9628\n",
      "EPOCH: 41/50\n",
      "Train on 625 samples, validate on 49 samples\n",
      "625/625 [==============================] - 8s 13ms/sample - loss: 0.6369 - mape: 3.5857 - val_loss: 0.9626 - val_mape: 5.4064\n",
      "EPOCH: 42/50\n",
      "Train on 625 samples, validate on 49 samples\n",
      "625/625 [==============================] - 7s 11ms/sample - loss: 0.6201 - mape: 3.5173 - val_loss: 0.9188 - val_mape: 5.0880\n",
      "EPOCH: 43/50\n",
      "Train on 625 samples, validate on 49 samples\n",
      "625/625 [==============================] - 6s 10ms/sample - loss: 0.6370 - mape: 3.6476 - val_loss: 0.9767 - val_mape: 5.3286\n",
      "EPOCH: 44/50\n",
      "Train on 625 samples, validate on 49 samples\n",
      "625/625 [==============================] - 9s 14ms/sample - loss: 0.7491 - mape: 4.2627 - val_loss: 2.0643 - val_mape: 11.2711\n",
      "EPOCH: 45/50\n",
      "Train on 625 samples, validate on 49 samples\n",
      "625/625 [==============================] - 5s 8ms/sample - loss: 0.6560 - mape: 3.7291 - val_loss: 1.1392 - val_mape: 6.5447\n",
      "EPOCH: 46/50\n",
      "Train on 625 samples, validate on 49 samples\n",
      "625/625 [==============================] - 9s 14ms/sample - loss: 0.6126 - mape: 3.4947 - val_loss: 1.0064 - val_mape: 5.8582\n",
      "EPOCH: 47/50\n",
      "Train on 625 samples, validate on 49 samples\n",
      "625/625 [==============================] - 7s 12ms/sample - loss: 0.6990 - mape: 3.8504 - val_loss: 1.3085 - val_mape: 7.7318\n",
      "EPOCH: 48/50\n",
      "Train on 625 samples, validate on 49 samples\n",
      "625/625 [==============================] - 9s 15ms/sample - loss: 0.6242 - mape: 3.5341 - val_loss: 1.0284 - val_mape: 6.1165\n",
      "EPOCH: 49/50\n",
      "Train on 625 samples, validate on 49 samples\n",
      "625/625 [==============================] - 8s 13ms/sample - loss: 0.6242 - mape: 3.5519 - val_loss: 1.4164 - val_mape: 8.1770\n",
      "EPOCH: 50/50\n",
      "Train on 625 samples, validate on 49 samples\n",
      "625/625 [==============================] - 6s 9ms/sample - loss: 0.6360 - mape: 3.6001 - val_loss: 0.8369 - val_mape: 4.7691\n"
     ]
    }
   ],
   "source": [
    "# Training with \"reset_state\" between epochs\n",
    "EPOCHS = 50\n",
    "loss = []; val_loss = []\n",
    "for i in range(EPOCHS):\n",
    "    print('EPOCH: {:d}/{:d}'.format(i+1, EPOCHS))\n",
    "    history = model.fit(X_train_seq, y_train, BATCH_SIZE, epochs=1,\n",
    "                        validation_data=[X_test_seq, y_test], shuffle=False, verbose=1)\n",
    "    loss.append(history.history['loss'])\n",
    "    val_loss.append(history.history['val_loss'])\n",
    "    model.reset_states()"
   ]
  },
  {
   "cell_type": "code",
   "execution_count": 28,
   "metadata": {},
   "outputs": [
    {
     "data": {
      "image/png": "[encoded data removed]",
      "text/plain": [
       "<Figure size 432x288 with 1 Axes>"
      ]
     },
     "metadata": {
      "needs_background": "light"
     },
     "output_type": "display_data"
    }
   ],
   "source": [
    "plt.plot(loss, label='train')\n",
    "plt.plot(val_loss, label='validation')\n",
    "plt.legend(loc='best')\n",
    "plt.xlabel('Epoch')\n",
    "plt.ylabel('Loss value')\n",
    "plt.show()"
   ]
  },
  {
   "cell_type": "code",
   "execution_count": null,
   "metadata": {},
   "outputs": [],
   "source": [
    "# DO NOT EXECUTE!\n",
    "# Alternative training without \"reset_state\"\n",
    "early_stop = keras.callbacks.EarlyStopping(monitor='val_loss', min_delta=0.1, patience=10, \n",
    "                                           restore_best_weights=True, verbose=1)\n",
    "history = model.fit(X_train_seq, y_train, BATCH_SIZE, epochs=50, callbacks=[early_stop],\n",
    "                    validation_data=[X_test_seq, y_test], shuffle=False, verbose=1)"
   ]
  },
  {
   "cell_type": "code",
   "execution_count": null,
   "metadata": {},
   "outputs": [],
   "source": [
    "loss = history.history['loss']\n",
    "val_loss = history.history['val_loss']\n",
    "plt.plot(loss, label='train')\n",
    "plt.plot(val_loss, label='validation')\n",
    "plt.legend(loc='best')\n",
    "plt.xlabel('Epoch')\n",
    "plt.ylabel('Loss value')\n",
    "plt.show()"
   ]
  },
  {
   "cell_type": "code",
   "execution_count": 29,
   "metadata": {},
   "outputs": [],
   "source": [
    "# Forecasting one time step ahead\n",
    "def forecast(model, batch_size, X):\n",
    "\tX = X.reshape(1, 1, len(X))\n",
    "\tyhat = model.predict(X, batch_size=batch_size)\n",
    "\treturn yhat[0,0]"
   ]
  },
  {
   "cell_type": "code",
   "execution_count": 30,
   "metadata": {},
   "outputs": [],
   "source": [
    "y_pred = np.empty_like(y_true)\n",
    "for i in range(len(X_new_)):\n",
    "\tX = X_new_[i,:]\n",
    "\tyhat = forecast(model, 1, X)\n",
    "\ty_pred[i] = yhat"
   ]
  },
  {
   "cell_type": "code",
   "execution_count": 31,
   "metadata": {},
   "outputs": [],
   "source": [
    "def mean_absolute_percentage_error(y_true, y_pred): \n",
    "    return np.mean(np.abs((y_true - y_pred)/y_true))*100."
   ]
  },
  {
   "cell_type": "code",
   "execution_count": 32,
   "metadata": {},
   "outputs": [
    {
     "name": "stdout",
     "output_type": "stream",
     "text": [
      "MAPE = 5.84 (%)\n"
     ]
    }
   ],
   "source": [
    "mape = mean_absolute_percentage_error(y_true, y_pred)\n",
    "print('MAPE = {:.2f} (%)'.format(mape))"
   ]
  },
  {
   "cell_type": "code",
   "execution_count": 33,
   "metadata": {},
   "outputs": [
    {
     "data": {
      "image/png": "[encoded data removed]",
      "text/plain": [
       "<Figure size 648x360 with 3 Axes>"
      ]
     },
     "metadata": {
      "needs_background": "light"
     },
     "output_type": "display_data"
    }
   ],
   "source": [
    "fig = plt.figure(figsize=(9,5))\n",
    "gx = gs.GridSpec(nrows=2, ncols=2, figure=fig, height_ratios=[3,1], width_ratios=[9,1])\n",
    "ax = np.empty(shape=(2,1), dtype=np.ndarray)\n",
    "ax[0,0] = fig.add_subplot(gx[0,0])\n",
    "ax[1,0] = fig.add_subplot(gx[1,0], sharex=ax[0,0])\n",
    "axr = fig.add_subplot(gx[:,1])\n",
    "ax[0,0].set_title(station+' substation', fontweight='bold')\n",
    "ax[0,0].plot(dwdf.loc[sn:en].index, y_true, \n",
    "             lw=2.5, color='royalblue', marker='+', markersize=8, label='Actual load')\n",
    "ax[0,0].plot(dwdf.loc[sn:en].index, y_pred, \n",
    "             lw=2, color='seagreen', label='Predicted load')\n",
    "ax[0,0].text(0.85, 0.45, 'MAPE = {:.2f} %'.format(mape), \n",
    "             horizontalalignment='center', verticalalignment='center', \n",
    "             fontsize=12, fontweight='bold',\n",
    "             transform=ax[0,0].transAxes)  # relative coordinates\n",
    "ax[0,0].legend(loc='upper left')\n",
    "ax[0,0].set_ylabel('Load (MW)')\n",
    "ax[0,0].grid(True)\n",
    "# Absolute percentage error\n",
    "abs_perc_error = np.abs((y_true - y_pred) / y_true)*100.\n",
    "ax[1,0].bar(dwdf.loc[sn:en].index, abs_perc_error, width=0.02, \n",
    "            color='darkorange', label='Absolute percentage error')\n",
    "ax[1,0].legend(loc='upper right')\n",
    "ax[1,0].set_ylabel('APE (%)')\n",
    "ax[1,0].grid(True)\n",
    "# Histogram of error distribution\n",
    "axr.hist(abs_perc_error, bins='auto', orientation='horizontal', \n",
    "         color='darkorange', alpha=0.8)\n",
    "xlims = axr.get_xlim()\n",
    "axr.hlines(mape, 0, xlims[1], colors='k', lw=2)\n",
    "axr.text(2.5, mape+0.2, 'MAPE', fontweight='bold')\n",
    "axr.grid(axis='y')\n",
    "axr.set_ylabel('Distribution of APE (%)')\n",
    "fig.tight_layout()\n",
    "#plt.savefig('{}_gru.png'.format(station), dpi=800)\n",
    "plt.show()"
   ]
  },
  {
   "cell_type": "markdown",
   "metadata": {},
   "source": [
    "### Deep feed-forward neural network"
   ]
  },
  {
   "cell_type": "code",
   "execution_count": 34,
   "metadata": {},
   "outputs": [
    {
     "name": "stdout",
     "output_type": "stream",
     "text": [
      "Train on 625 samples, validate on 49 samples\n",
      "Epoch 1/200\n",
      "625/625 [==============================] - 1s 1ms/sample - loss: 18.3084 - mape: 103.0292 - val_loss: 16.7864 - val_mape: 92.5012\n",
      "Epoch 2/200\n",
      "625/625 [==============================] - 0s 197us/sample - loss: 16.2492 - mape: 91.1008 - val_loss: 14.9355 - val_mape: 81.8459\n",
      "Epoch 3/200\n",
      "625/625 [==============================] - 0s 164us/sample - loss: 14.3567 - mape: 80.2511 - val_loss: 13.0074 - val_mape: 70.7280\n",
      "Epoch 4/200\n",
      "625/625 [==============================] - 0s 149us/sample - loss: 12.4137 - mape: 69.1508 - val_loss: 10.9364 - val_mape: 58.7597\n",
      "Epoch 5/200\n",
      "625/625 [==============================] - 0s 166us/sample - loss: 10.3114 - mape: 57.2677 - val_loss: 8.6439 - val_mape: 45.4994\n",
      "Epoch 6/200\n",
      "625/625 [==============================] - 0s 166us/sample - loss: 8.2082 - mape: 45.5208 - val_loss: 6.6655 - val_mape: 34.7050\n",
      "Epoch 7/200\n",
      "625/625 [==============================] - 0s 190us/sample - loss: 6.7255 - mape: 37.0819 - val_loss: 5.4638 - val_mape: 28.6222\n",
      "Epoch 8/200\n",
      "625/625 [==============================] - 0s 178us/sample - loss: 5.4518 - mape: 29.6801 - val_loss: 4.6482 - val_mape: 24.4849\n",
      "Epoch 9/200\n",
      "625/625 [==============================] - 0s 178us/sample - loss: 4.3299 - mape: 23.7563 - val_loss: 3.9745 - val_mape: 20.8420\n",
      "Epoch 10/200\n",
      "625/625 [==============================] - 0s 156us/sample - loss: 3.5736 - mape: 20.2747 - val_loss: 3.5134 - val_mape: 18.1922\n",
      "Epoch 11/200\n",
      "625/625 [==============================] - 0s 149us/sample - loss: 3.3689 - mape: 19.8929 - val_loss: 3.4134 - val_mape: 17.5622\n",
      "Epoch 12/200\n",
      "625/625 [==============================] - 0s 203us/sample - loss: 3.5226 - mape: 20.9844 - val_loss: 3.6741 - val_mape: 19.2705\n",
      "Epoch 13/200\n",
      "625/625 [==============================] - 0s 185us/sample - loss: 3.7076 - mape: 21.9685 - val_loss: 3.8144 - val_mape: 20.3956\n",
      "Epoch 14/200\n",
      "625/625 [==============================] - 0s 146us/sample - loss: 3.4899 - mape: 20.6482 - val_loss: 3.7055 - val_mape: 20.0425\n",
      "Epoch 15/200\n",
      "625/625 [==============================] - 0s 212us/sample - loss: 3.0775 - mape: 18.1836 - val_loss: 3.3759 - val_mape: 18.3349\n",
      "Epoch 16/200\n",
      "625/625 [==============================] - 0s 128us/sample - loss: 2.5657 - mape: 15.1425 - val_loss: 3.0589 - val_mape: 16.6623\n",
      "Epoch 17/200\n",
      "625/625 [==============================] - 0s 132us/sample - loss: 2.1894 - mape: 12.6757 - val_loss: 2.9754 - val_mape: 16.2526\n",
      "Epoch 18/200\n",
      "625/625 [==============================] - 0s 150us/sample - loss: 1.9547 - mape: 11.1780 - val_loss: 3.1157 - val_mape: 16.9977\n",
      "Epoch 19/200\n",
      "625/625 [==============================] - 0s 191us/sample - loss: 1.8619 - mape: 10.5877 - val_loss: 3.3640 - val_mape: 18.2966\n",
      "Epoch 20/200\n",
      "625/625 [==============================] - 0s 181us/sample - loss: 2.0190 - mape: 11.4936 - val_loss: 3.4871 - val_mape: 18.9256\n",
      "Epoch 21/200\n",
      "625/625 [==============================] - 0s 174us/sample - loss: 1.9795 - mape: 11.2393 - val_loss: 3.2851 - val_mape: 17.8305\n",
      "Epoch 22/200\n",
      "625/625 [==============================] - 0s 188us/sample - loss: 1.8564 - mape: 10.5317 - val_loss: 2.7491 - val_mape: 14.9548\n",
      "Epoch 23/200\n",
      "625/625 [==============================] - 0s 159us/sample - loss: 1.6436 - mape: 9.4288 - val_loss: 2.2285 - val_mape: 12.1949\n",
      "Epoch 24/200\n",
      "625/625 [==============================] - 0s 194us/sample - loss: 1.6330 - mape: 9.3863 - val_loss: 1.9934 - val_mape: 10.9183\n",
      "Epoch 25/200\n",
      "625/625 [==============================] - 0s 177us/sample - loss: 1.5375 - mape: 8.8360 - val_loss: 2.0835 - val_mape: 11.3250\n",
      "Epoch 26/200\n",
      "625/625 [==============================] - 0s 119us/sample - loss: 1.4873 - mape: 8.6507 - val_loss: 2.3102 - val_mape: 12.4771\n",
      "Epoch 27/200\n",
      "625/625 [==============================] - 0s 147us/sample - loss: 1.5707 - mape: 9.0792 - val_loss: 2.3697 - val_mape: 12.7541\n",
      "Epoch 28/200\n",
      "625/625 [==============================] - 0s 153us/sample - loss: 1.4192 - mape: 8.1469 - val_loss: 2.2814 - val_mape: 12.2692\n",
      "Epoch 29/200\n",
      "625/625 [==============================] - 0s 193us/sample - loss: 1.4139 - mape: 8.1324 - val_loss: 2.2318 - val_mape: 12.0211\n",
      "Epoch 30/200\n",
      "625/625 [==============================] - 0s 197us/sample - loss: 1.3931 - mape: 8.0441 - val_loss: 2.2825 - val_mape: 12.3001\n",
      "Epoch 31/200\n",
      "625/625 [==============================] - 0s 174us/sample - loss: 1.3370 - mape: 7.6478 - val_loss: 2.3819 - val_mape: 12.8763\n",
      "Epoch 32/200\n",
      "625/625 [==============================] - 0s 134us/sample - loss: 1.4137 - mape: 8.0465 - val_loss: 2.3476 - val_mape: 12.7410\n",
      "Epoch 33/200\n",
      "625/625 [==============================] - 0s 109us/sample - loss: 1.3264 - mape: 7.6691 - val_loss: 2.1273 - val_mape: 11.5802\n",
      "Epoch 34/200\n",
      "625/625 [==============================] - 0s 114us/sample - loss: 1.2761 - mape: 7.4000 - val_loss: 1.9499 - val_mape: 10.6166\n",
      "Epoch 35/200\n",
      "625/625 [==============================] - 0s 253us/sample - loss: 1.2713 - mape: 7.3522 - val_loss: 2.0153 - val_mape: 10.9457\n",
      "Epoch 36/200\n",
      "625/625 [==============================] - 0s 248us/sample - loss: 1.2522 - mape: 7.2530 - val_loss: 2.2173 - val_mape: 12.0011\n",
      "Epoch 37/200\n",
      "625/625 [==============================] - 0s 194us/sample - loss: 1.3071 - mape: 7.5071 - val_loss: 2.2477 - val_mape: 12.1281\n",
      "Epoch 38/200\n",
      "625/625 [==============================] - 0s 187us/sample - loss: 1.2720 - mape: 7.2967 - val_loss: 2.0842 - val_mape: 11.2316\n",
      "Epoch 39/200\n",
      "625/625 [==============================] - 0s 221us/sample - loss: 1.2155 - mape: 7.0300 - val_loss: 1.9412 - val_mape: 10.4945\n",
      "Epoch 40/200\n",
      "625/625 [==============================] - 0s 242us/sample - loss: 1.2101 - mape: 6.9228 - val_loss: 2.0140 - val_mape: 10.8944\n",
      "Epoch 41/200\n",
      "625/625 [==============================] - 0s 187us/sample - loss: 1.1453 - mape: 6.5744 - val_loss: 2.1969 - val_mape: 11.8882\n",
      "Epoch 42/200\n",
      "625/625 [==============================] - 0s 222us/sample - loss: 1.2002 - mape: 6.8826 - val_loss: 2.2438 - val_mape: 12.1441\n",
      "Epoch 43/200\n",
      "625/625 [==============================] - 0s 191us/sample - loss: 1.1870 - mape: 6.8494 - val_loss: 2.1358 - val_mape: 11.4959\n",
      "Epoch 44/200\n",
      "625/625 [==============================] - 0s 239us/sample - loss: 1.1328 - mape: 6.5815 - val_loss: 2.0572 - val_mape: 11.0579\n",
      "Epoch 00044: early stopping\n"
     ]
    }
   ],
   "source": [
    "BATCH_SIZE = 512\n",
    "input_layer = keras.layers.Input(shape=X_train_.shape[1:])\n",
    "x = keras.layers.Dense(units=256, activation='relu')(input_layer)\n",
    "x = keras.layers.Dropout(0.1)(x)\n",
    "x = keras.layers.Dense(units=256, activation='relu')(x)\n",
    "x = keras.layers.Dropout(0.1)(x)\n",
    "output_layer = keras.layers.Dense(1)(x)\n",
    "model = keras.models.Model(inputs=input_layer, outputs=output_layer)\n",
    "model.compile(loss='mae', optimizer='adam', metrics=['mape'])\n",
    "early_stop = keras.callbacks.EarlyStopping(monitor='val_loss', min_delta=0.1, \n",
    "                                           patience=20, verbose=1)\n",
    "history = model.fit(X_train_, y_train, BATCH_SIZE, epochs=200, \n",
    "                    validation_data=(X_test_, y_test),\n",
    "                    callbacks=[early_stop], shuffle=False, verbose=1)"
   ]
  },
  {
   "cell_type": "code",
   "execution_count": 35,
   "metadata": {},
   "outputs": [
    {
     "data": {
      "image/png": "[encoded data removed]",
      "text/plain": [
       "<Figure size 432x288 with 1 Axes>"
      ]
     },
     "metadata": {
      "needs_background": "light"
     },
     "output_type": "display_data"
    }
   ],
   "source": [
    "loss = history.history['loss']\n",
    "val_loss = history.history['val_loss']\n",
    "plt.plot(loss[1:], label='train')\n",
    "plt.plot(val_loss[1:], label='validation')\n",
    "plt.legend(loc='best')\n",
    "plt.xlabel('Epoch')\n",
    "plt.ylabel('Loss value')\n",
    "plt.show()"
   ]
  },
  {
   "cell_type": "code",
   "execution_count": 36,
   "metadata": {},
   "outputs": [],
   "source": [
    "y_pred = model.predict(X_new_)\n",
    "y_pred = y_pred.flatten()"
   ]
  },
  {
   "cell_type": "code",
   "execution_count": 37,
   "metadata": {},
   "outputs": [
    {
     "name": "stdout",
     "output_type": "stream",
     "text": [
      "MAPE = 6.07 (%)\n"
     ]
    }
   ],
   "source": [
    "mape = mean_absolute_percentage_error(y_true, y_pred)\n",
    "print('MAPE = {:.2f} (%)'.format(mape))"
   ]
  },
  {
   "cell_type": "code",
   "execution_count": 38,
   "metadata": {},
   "outputs": [
    {
     "data": {
      "image/png": "[encoded data removed]",
      "text/plain": [
       "<Figure size 648x360 with 3 Axes>"
      ]
     },
     "metadata": {
      "needs_background": "light"
     },
     "output_type": "display_data"
    }
   ],
   "source": [
    "fig = plt.figure(figsize=(9,5))\n",
    "gx = gs.GridSpec(nrows=2, ncols=2, figure=fig, height_ratios=[3,1], width_ratios=[9,1])\n",
    "ax = np.empty(shape=(2,1), dtype=np.ndarray)\n",
    "ax[0,0] = fig.add_subplot(gx[0,0])\n",
    "ax[1,0] = fig.add_subplot(gx[1,0], sharex=ax[0,0])\n",
    "axr = fig.add_subplot(gx[:,1])\n",
    "ax[0,0].set_title(station+' substation', fontweight='bold')\n",
    "ax[0,0].plot(dwdf.loc[sn:en].index, y_true, \n",
    "             lw=2.5, color='royalblue', marker='+', markersize=8, label='Actual load')\n",
    "ax[0,0].plot(dwdf.loc[sn:en].index, y_pred, \n",
    "             lw=2, color='seagreen', label='Predicted load')\n",
    "ax[0,0].text(0.85, 0.45, 'MAPE = {:.2f} %'.format(mape), \n",
    "             horizontalalignment='center', verticalalignment='center', \n",
    "             fontsize=12, fontweight='bold',\n",
    "             transform=ax[0,0].transAxes)  # relative coordinates\n",
    "ax[0,0].legend(loc='upper left')\n",
    "ax[0,0].set_ylabel('Load (MW)')\n",
    "ax[0,0].grid(True)\n",
    "# Absolute percentage error\n",
    "abs_perc_error = np.abs((y_true - y_pred) / y_true)*100.\n",
    "ax[1,0].bar(dwdf.loc[sn:en].index, abs_perc_error, width=0.02, \n",
    "            color='darkorange', label='Absolute percentage error')\n",
    "ax[1,0].legend(loc='upper right')\n",
    "ax[1,0].set_ylabel('APE (%)')\n",
    "ax[1,0].grid(True)\n",
    "# Histogram of error distribution\n",
    "axr.hist(abs_perc_error, bins='auto', orientation='horizontal', \n",
    "         color='darkorange', alpha=0.8)\n",
    "xlims = axr.get_xlim()\n",
    "axr.hlines(mape, 0, xlims[1], colors='k', lw=2)\n",
    "axr.text(2.5, mape+0.2, 'MAPE', fontweight='bold')\n",
    "axr.grid(axis='y')\n",
    "axr.set_ylabel('Distribution of APE (%)')\n",
    "fig.tight_layout()\n",
    "#plt.savefig('{}_dnn.png'.format(station), dpi=800)\n",
    "plt.show()"
   ]
  },
  {
   "cell_type": "markdown",
   "metadata": {},
   "source": [
    "#### Feature selection using importance analysis"
   ]
  },
  {
   "cell_type": "code",
   "execution_count": 39,
   "metadata": {},
   "outputs": [],
   "source": [
    "warnings.filterwarnings(action='ignore', category=FutureWarning)"
   ]
  },
  {
   "cell_type": "code",
   "execution_count": 40,
   "metadata": {},
   "outputs": [],
   "source": [
    "parameters = {'n_estimators':[500, 1000],\n",
    "              'max_depth':[1, 3, None]}\n",
    "rfr = GridSearchCV(estimator=RandomForestRegressor(criterion='mse'), \n",
    "                   param_grid=parameters, cv=TimeSeriesSplit(n_splits=3),\n",
    "                   scoring='neg_mean_squared_error', \n",
    "                   refit=True, n_jobs=-1, iid=False)\n",
    "rfr.fit(X_train, y_train);"
   ]
  },
  {
   "cell_type": "code",
   "execution_count": 41,
   "metadata": {},
   "outputs": [
    {
     "data": {
      "text/plain": [
       "{'max_depth': None, 'n_estimators': 500}"
      ]
     },
     "execution_count": 41,
     "metadata": {},
     "output_type": "execute_result"
    }
   ],
   "source": [
    "rfr.best_params_"
   ]
  },
  {
   "cell_type": "code",
   "execution_count": 42,
   "metadata": {},
   "outputs": [],
   "source": [
    "forest = RandomForestRegressor(criterion='mse', **rfr.best_params_)\n",
    "forest.fit(X_train, y_train)\n",
    "selector = SelectFromModel(estimator=forest, threshold='median', prefit=True)\n",
    "X_train_select = selector.transform(X_train)\n",
    "X_test_select = selector.transform(X_test)\n",
    "X_new_select = selector.transform(X_new)"
   ]
  },
  {
   "cell_type": "code",
   "execution_count": 43,
   "metadata": {},
   "outputs": [
    {
     "data": {
      "text/plain": [
       "(625, 144)"
      ]
     },
     "execution_count": 43,
     "metadata": {},
     "output_type": "execute_result"
    }
   ],
   "source": [
    "X_train.shape"
   ]
  },
  {
   "cell_type": "code",
   "execution_count": 44,
   "metadata": {},
   "outputs": [
    {
     "data": {
      "text/plain": [
       "(625, 72)"
      ]
     },
     "execution_count": 44,
     "metadata": {},
     "output_type": "execute_result"
    }
   ],
   "source": [
    "X_train_select.shape"
   ]
  },
  {
   "cell_type": "markdown",
   "metadata": {},
   "source": [
    "### Wide and Deep neural network"
   ]
  },
  {
   "cell_type": "code",
   "execution_count": 45,
   "metadata": {},
   "outputs": [],
   "source": [
    "# Scaling selected features\n",
    "scaler_select = StandardScaler()\n",
    "X_train_sc = scaler_select.fit_transform(X_train_select)\n",
    "X_test_sc = scaler_select.transform(X_test_select)\n",
    "X_new_sc = scaler_select.transform(X_new_select)"
   ]
  },
  {
   "cell_type": "code",
   "execution_count": 46,
   "metadata": {},
   "outputs": [
    {
     "data": {
      "text/plain": [
       "(72,)"
      ]
     },
     "execution_count": 46,
     "metadata": {},
     "output_type": "execute_result"
    }
   ],
   "source": [
    "X_train_sc.shape[1:]"
   ]
  },
  {
   "cell_type": "code",
   "execution_count": 52,
   "metadata": {},
   "outputs": [
    {
     "name": "stdout",
     "output_type": "stream",
     "text": [
      "Train on 625 samples, validate on 49 samples\n",
      "Epoch 1/200\n",
      "625/625 [==============================] - 1s 2ms/sample - loss: 18.7079 - mape: 104.9346 - val_loss: 18.1849 - val_mape: 100.2174\n",
      "Epoch 2/200\n",
      "625/625 [==============================] - 0s 153us/sample - loss: 17.5384 - mape: 98.2712 - val_loss: 17.4184 - val_mape: 95.8560\n",
      "Epoch 3/200\n",
      "625/625 [==============================] - 0s 210us/sample - loss: 16.5512 - mape: 92.7132 - val_loss: 16.4386 - val_mape: 90.2446\n",
      "Epoch 4/200\n",
      "625/625 [==============================] - 0s 206us/sample - loss: 15.2738 - mape: 85.5290 - val_loss: 15.0388 - val_mape: 82.2193\n",
      "Epoch 5/200\n",
      "625/625 [==============================] - 0s 301us/sample - loss: 13.5433 - mape: 75.7898 - val_loss: 13.0927 - val_mape: 71.0528\n",
      "Epoch 6/200\n",
      "625/625 [==============================] - 0s 224us/sample - loss: 11.1781 - mape: 62.4758 - val_loss: 10.4764 - val_mape: 56.0196\n",
      "Epoch 7/200\n",
      "625/625 [==============================] - 0s 160us/sample - loss: 8.2180 - mape: 46.0629 - val_loss: 7.3882 - val_mape: 38.9497\n",
      "Epoch 8/200\n",
      "625/625 [==============================] - 0s 178us/sample - loss: 6.0230 - mape: 33.0853 - val_loss: 5.5371 - val_mape: 29.3197\n",
      "Epoch 9/200\n",
      "625/625 [==============================] - 0s 158us/sample - loss: 4.2254 - mape: 23.1133 - val_loss: 4.6184 - val_mape: 24.3852\n",
      "Epoch 10/200\n",
      "625/625 [==============================] - 0s 229us/sample - loss: 3.3582 - mape: 19.4155 - val_loss: 4.3925 - val_mape: 22.9529\n",
      "Epoch 11/200\n",
      "625/625 [==============================] - 0s 198us/sample - loss: 2.9565 - mape: 17.8071 - val_loss: 5.2488 - val_mape: 27.5462\n",
      "Epoch 12/200\n",
      "625/625 [==============================] - 0s 209us/sample - loss: 3.0108 - mape: 17.4737 - val_loss: 6.2706 - val_mape: 33.6196\n",
      "Epoch 13/200\n",
      "625/625 [==============================] - 0s 200us/sample - loss: 3.1830 - mape: 17.8264 - val_loss: 6.6917 - val_mape: 36.2772\n",
      "Epoch 14/200\n",
      "625/625 [==============================] - 0s 171us/sample - loss: 3.0795 - mape: 17.2039 - val_loss: 6.4580 - val_mape: 35.1962\n",
      "Epoch 15/200\n",
      "625/625 [==============================] - 0s 185us/sample - loss: 2.7737 - mape: 15.5377 - val_loss: 5.7007 - val_mape: 31.1375\n",
      "Epoch 16/200\n",
      "625/625 [==============================] - 0s 182us/sample - loss: 2.3087 - mape: 13.1610 - val_loss: 4.6956 - val_mape: 25.6264\n",
      "Epoch 17/200\n",
      "625/625 [==============================] - 0s 237us/sample - loss: 2.1666 - mape: 12.3041 - val_loss: 4.0895 - val_mape: 22.2157\n",
      "Epoch 18/200\n",
      "625/625 [==============================] - 0s 213us/sample - loss: 2.0653 - mape: 11.6287 - val_loss: 4.1827 - val_mape: 22.6075\n",
      "Epoch 19/200\n",
      "625/625 [==============================] - 0s 219us/sample - loss: 1.7857 - mape: 10.1595 - val_loss: 4.6463 - val_mape: 25.0533\n",
      "Epoch 20/200\n",
      "625/625 [==============================] - 0s 185us/sample - loss: 1.8402 - mape: 10.4550 - val_loss: 4.8615 - val_mape: 26.1742\n",
      "Epoch 21/200\n",
      "625/625 [==============================] - 0s 174us/sample - loss: 1.8863 - mape: 10.6973 - val_loss: 4.4404 - val_mape: 23.8154\n",
      "Epoch 22/200\n",
      "625/625 [==============================] - 0s 203us/sample - loss: 1.7518 - mape: 10.0103 - val_loss: 3.6251 - val_mape: 19.3805\n",
      "Epoch 23/200\n",
      "625/625 [==============================] - 0s 209us/sample - loss: 1.5810 - mape: 9.2471 - val_loss: 2.9527 - val_mape: 15.8101\n",
      "Epoch 24/200\n",
      "625/625 [==============================] - 0s 442us/sample - loss: 1.7182 - mape: 10.0367 - val_loss: 2.9575 - val_mape: 15.8613\n",
      "Epoch 25/200\n",
      "625/625 [==============================] - 0s 216us/sample - loss: 1.4240 - mape: 8.3475 - val_loss: 3.4340 - val_mape: 18.5019\n",
      "Epoch 26/200\n",
      "625/625 [==============================] - 0s 213us/sample - loss: 1.4356 - mape: 8.2466 - val_loss: 3.6650 - val_mape: 19.7714\n",
      "Epoch 27/200\n",
      "625/625 [==============================] - 0s 266us/sample - loss: 1.4793 - mape: 8.4432 - val_loss: 3.2725 - val_mape: 17.5948\n",
      "Epoch 28/200\n",
      "625/625 [==============================] - 0s 314us/sample - loss: 1.3728 - mape: 7.8703 - val_loss: 2.7665 - val_mape: 14.8073\n",
      "Epoch 29/200\n",
      "625/625 [==============================] - 0s 282us/sample - loss: 1.3047 - mape: 7.5092 - val_loss: 2.6640 - val_mape: 14.2500\n",
      "Epoch 30/200\n",
      "625/625 [==============================] - 0s 279us/sample - loss: 1.2223 - mape: 7.0786 - val_loss: 2.9572 - val_mape: 15.8663\n",
      "Epoch 31/200\n",
      "625/625 [==============================] - 0s 228us/sample - loss: 1.2438 - mape: 7.2389 - val_loss: 3.0670 - val_mape: 16.5055\n",
      "Epoch 32/200\n",
      "625/625 [==============================] - 0s 238us/sample - loss: 1.2332 - mape: 7.1342 - val_loss: 2.6924 - val_mape: 14.4926\n",
      "Epoch 33/200\n",
      "625/625 [==============================] - 0s 226us/sample - loss: 1.1632 - mape: 6.6862 - val_loss: 2.4596 - val_mape: 13.2582\n",
      "Epoch 34/200\n",
      "625/625 [==============================] - 0s 218us/sample - loss: 1.1778 - mape: 6.8322 - val_loss: 2.7696 - val_mape: 14.9702\n",
      "Epoch 35/200\n",
      "625/625 [==============================] - 0s 229us/sample - loss: 1.1174 - mape: 6.4331 - val_loss: 3.1467 - val_mape: 16.9933\n",
      "Epoch 36/200\n",
      "625/625 [==============================] - 0s 225us/sample - loss: 1.2506 - mape: 7.1289 - val_loss: 2.8193 - val_mape: 15.1307\n",
      "Epoch 37/200\n",
      "625/625 [==============================] - 0s 236us/sample - loss: 1.0725 - mape: 6.1349 - val_loss: 2.3197 - val_mape: 12.3799\n",
      "Epoch 38/200\n",
      "625/625 [==============================] - 0s 364us/sample - loss: 1.1060 - mape: 6.4402 - val_loss: 2.4012 - val_mape: 12.8319\n",
      "Epoch 39/200\n",
      "625/625 [==============================] - 0s 240us/sample - loss: 1.1035 - mape: 6.5157 - val_loss: 2.8153 - val_mape: 15.1103\n",
      "Epoch 40/200\n",
      "625/625 [==============================] - 0s 214us/sample - loss: 1.1231 - mape: 6.4331 - val_loss: 2.7835 - val_mape: 14.9941\n",
      "Epoch 41/200\n",
      "625/625 [==============================] - 0s 380us/sample - loss: 0.9782 - mape: 5.6160 - val_loss: 2.4003 - val_mape: 12.9657\n",
      "Epoch 42/200\n",
      "625/625 [==============================] - 0s 225us/sample - loss: 1.0278 - mape: 5.9084 - val_loss: 2.4443 - val_mape: 13.2159\n",
      "Epoch 43/200\n",
      "625/625 [==============================] - 0s 160us/sample - loss: 1.0068 - mape: 5.8251 - val_loss: 2.7936 - val_mape: 15.0965\n",
      "Epoch 44/200\n",
      "625/625 [==============================] - 0s 292us/sample - loss: 0.9868 - mape: 5.6926 - val_loss: 2.7207 - val_mape: 14.6641\n",
      "Epoch 45/200\n",
      "625/625 [==============================] - 0s 234us/sample - loss: 0.9568 - mape: 5.5256 - val_loss: 2.3501 - val_mape: 12.5827\n",
      "Epoch 46/200\n",
      "625/625 [==============================] - 0s 271us/sample - loss: 0.9459 - mape: 5.4893 - val_loss: 2.3624 - val_mape: 12.6025\n",
      "Epoch 47/200\n",
      "625/625 [==============================] - 0s 225us/sample - loss: 0.9169 - mape: 5.3342 - val_loss: 2.5984 - val_mape: 13.8884\n",
      "Epoch 48/200\n",
      "625/625 [==============================] - 0s 210us/sample - loss: 0.9824 - mape: 5.6878 - val_loss: 2.5374 - val_mape: 13.5763\n",
      "Epoch 49/200\n",
      "625/625 [==============================] - 0s 198us/sample - loss: 0.9230 - mape: 5.3116 - val_loss: 2.4534 - val_mape: 13.1459\n",
      "Epoch 50/200\n",
      "625/625 [==============================] - 0s 183us/sample - loss: 0.9236 - mape: 5.3517 - val_loss: 2.6227 - val_mape: 14.0909\n",
      "Epoch 51/200\n",
      "625/625 [==============================] - 0s 252us/sample - loss: 0.9343 - mape: 5.3532 - val_loss: 2.4800 - val_mape: 13.3401\n",
      "Epoch 52/200\n",
      "625/625 [==============================] - 0s 378us/sample - loss: 0.9132 - mape: 5.2946 - val_loss: 2.2177 - val_mape: 11.9617\n",
      "Epoch 53/200\n",
      "625/625 [==============================] - 0s 221us/sample - loss: 0.9358 - mape: 5.3646 - val_loss: 2.4038 - val_mape: 13.0332\n",
      "Epoch 54/200\n",
      "625/625 [==============================] - 0s 198us/sample - loss: 0.9217 - mape: 5.2829 - val_loss: 2.6092 - val_mape: 14.1617\n",
      "Epoch 55/200\n",
      "625/625 [==============================] - 0s 210us/sample - loss: 0.9073 - mape: 5.2141 - val_loss: 2.2586 - val_mape: 12.1643\n",
      "Epoch 56/200\n",
      "625/625 [==============================] - 0s 191us/sample - loss: 0.9028 - mape: 5.1803 - val_loss: 2.1268 - val_mape: 11.3666\n",
      "Epoch 57/200\n",
      "625/625 [==============================] - 0s 213us/sample - loss: 0.8709 - mape: 5.0469 - val_loss: 2.6143 - val_mape: 14.0339\n",
      "Epoch 58/200\n",
      "625/625 [==============================] - 0s 215us/sample - loss: 0.9554 - mape: 5.3946 - val_loss: 2.5469 - val_mape: 13.7247\n",
      "Epoch 59/200\n",
      "625/625 [==============================] - 0s 208us/sample - loss: 0.8253 - mape: 4.7219 - val_loss: 2.0231 - val_mape: 10.8736\n",
      "Epoch 60/200\n",
      "625/625 [==============================] - 0s 207us/sample - loss: 0.9623 - mape: 5.5202 - val_loss: 2.2857 - val_mape: 12.3048\n",
      "Epoch 61/200\n",
      "625/625 [==============================] - 0s 199us/sample - loss: 0.8567 - mape: 4.9283 - val_loss: 2.7913 - val_mape: 15.0420\n",
      "Epoch 62/200\n",
      "625/625 [==============================] - 0s 258us/sample - loss: 0.8792 - mape: 5.0245 - val_loss: 2.5598 - val_mape: 13.8084\n",
      "Epoch 63/200\n",
      "625/625 [==============================] - 0s 244us/sample - loss: 0.8383 - mape: 4.7997 - val_loss: 2.3181 - val_mape: 12.5379\n",
      "Epoch 64/200\n",
      "625/625 [==============================] - 0s 395us/sample - loss: 0.8435 - mape: 4.8613 - val_loss: 2.4050 - val_mape: 13.0476\n",
      "Epoch 65/200\n",
      "625/625 [==============================] - 0s 301us/sample - loss: 0.8697 - mape: 5.0054 - val_loss: 2.3298 - val_mape: 12.6139\n",
      "Epoch 66/200\n",
      "625/625 [==============================] - 0s 382us/sample - loss: 0.8483 - mape: 4.8839 - val_loss: 2.1345 - val_mape: 11.4812\n",
      "Epoch 67/200\n",
      "625/625 [==============================] - 0s 218us/sample - loss: 0.8426 - mape: 4.8628 - val_loss: 2.3351 - val_mape: 12.4812\n",
      "Epoch 68/200\n",
      "625/625 [==============================] - 0s 223us/sample - loss: 0.8189 - mape: 4.6836 - val_loss: 2.4484 - val_mape: 13.0931\n",
      "Epoch 69/200\n",
      "625/625 [==============================] - 0s 349us/sample - loss: 0.8509 - mape: 4.8678 - val_loss: 2.2107 - val_mape: 11.8930\n",
      "Epoch 70/200\n",
      "625/625 [==============================] - 0s 219us/sample - loss: 0.8220 - mape: 4.7640 - val_loss: 2.1743 - val_mape: 11.7834\n",
      "Epoch 71/200\n",
      "625/625 [==============================] - 0s 193us/sample - loss: 0.7873 - mape: 4.5022 - val_loss: 2.4215 - val_mape: 13.1520\n",
      "Epoch 72/200\n",
      "625/625 [==============================] - 0s 232us/sample - loss: 0.8642 - mape: 4.9674 - val_loss: 2.2713 - val_mape: 12.3145\n",
      "Epoch 73/200\n",
      "625/625 [==============================] - 0s 196us/sample - loss: 0.7841 - mape: 4.4524 - val_loss: 2.2167 - val_mape: 11.9321\n",
      "Epoch 74/200\n",
      "625/625 [==============================] - 0s 241us/sample - loss: 0.7712 - mape: 4.3821 - val_loss: 2.4633 - val_mape: 13.2064\n",
      "Epoch 75/200\n",
      "625/625 [==============================] - 0s 184us/sample - loss: 0.8156 - mape: 4.6273 - val_loss: 2.2300 - val_mape: 11.9552\n",
      "Epoch 76/200\n",
      "625/625 [==============================] - 0s 193us/sample - loss: 0.8072 - mape: 4.6197 - val_loss: 2.2052 - val_mape: 11.9093\n",
      "Epoch 77/200\n",
      "625/625 [==============================] - 0s 206us/sample - loss: 0.6977 - mape: 4.0099 - val_loss: 2.4649 - val_mape: 13.3603\n",
      "Epoch 78/200\n",
      "625/625 [==============================] - 0s 226us/sample - loss: 0.7956 - mape: 4.5378 - val_loss: 2.3392 - val_mape: 12.6714\n",
      "Epoch 79/200\n",
      "512/625 [=======================>......] - ETA: 0s - loss: 0.7640 - mape: 4.4856Restoring model weights from the end of the best epoch.\n",
      "625/625 [==============================] - 0s 241us/sample - loss: 0.7432 - mape: 4.2320 - val_loss: 2.3711 - val_mape: 12.7859\n",
      "Epoch 00079: early stopping\n"
     ]
    }
   ],
   "source": [
    "BATCH_SIZE = 512\n",
    "# Deep Network with two parallel branches\n",
    "# This branch uses all features\n",
    "input_layer_all = keras.layers.Input(shape=X_train_.shape[1:])\n",
    "h1a = keras.layers.Dense(units=256, activation='relu')(input_layer_all)\n",
    "h2a = keras.layers.Dropout(0.1)(h1a)\n",
    "h3a = keras.layers.Dense(units=256, activation='relu')(h2a)\n",
    "h4a = keras.layers.Dropout(0.1)(h3a)\n",
    "# THis branch uses only select features (from importance analysis)\n",
    "input_layer_sel = keras.layers.Input(shape=X_train_sc.shape[1:])\n",
    "h1 = keras.layers.Dense(128, activation='relu')(input_layer_sel)\n",
    "h2 = keras.layers.Dropout(0.1)(h1)\n",
    "h3 = keras.layers.Dense(128, activation='relu')(h2)\n",
    "h4 = keras.layers.Dropout(0.1)(h3)\n",
    "# Wide and Deep model (concatenate branches with best input features)\n",
    "concat1 = keras.layers.Concatenate()([h4a, h4])\n",
    "hx = keras.layers.Dense(64, activation='relu')(concat1)\n",
    "concat2 = keras.layers.Concatenate()([input_layer_sel, hx])\n",
    "output = keras.layers.Dense(64, activation='relu')(concat2)\n",
    "output_layer = keras.layers.Dense(1)(output)\n",
    "model = keras.models.Model(inputs=[input_layer_all, input_layer_sel], \n",
    "                           outputs=[output_layer])\n",
    "model.compile(loss='mae', optimizer='adam', metrics=['mape'])\n",
    "early_stop = keras.callbacks.EarlyStopping(monitor='val_loss', min_delta=0.01, \n",
    "                                           patience=20, restore_best_weights=True,\n",
    "                                           verbose=1)\n",
    "history = model.fit([X_train_, X_train_sc], y_train, BATCH_SIZE, epochs=200, \n",
    "                    validation_data=([X_test_, X_test_sc], y_test),\n",
    "                    callbacks=[early_stop], shuffle=False, verbose=1)"
   ]
  },
  {
   "cell_type": "code",
   "execution_count": 53,
   "metadata": {},
   "outputs": [
    {
     "data": {
      "image/png": "[encoded data removed]",
      "text/plain": [
       "<Figure size 432x288 with 1 Axes>"
      ]
     },
     "metadata": {
      "needs_background": "light"
     },
     "output_type": "display_data"
    }
   ],
   "source": [
    "loss = history.history['loss']\n",
    "val_loss = history.history['val_loss']\n",
    "plt.plot(loss[1:], label='train')\n",
    "plt.plot(val_loss[1:], label='validation')\n",
    "plt.legend(loc='best')\n",
    "plt.xlabel('Epoch')\n",
    "plt.ylabel('Loss value')\n",
    "plt.show()"
   ]
  },
  {
   "cell_type": "code",
   "execution_count": 54,
   "metadata": {},
   "outputs": [],
   "source": [
    "y_pred = model.predict([X_new_, X_new_sc])\n",
    "y_pred = y_pred.flatten()"
   ]
  },
  {
   "cell_type": "code",
   "execution_count": 55,
   "metadata": {},
   "outputs": [
    {
     "name": "stdout",
     "output_type": "stream",
     "text": [
      "MAPE = 4.18 (%)\n"
     ]
    }
   ],
   "source": [
    "mape = mean_absolute_percentage_error(y_true, y_pred)\n",
    "print('MAPE = {:.2f} (%)'.format(mape))"
   ]
  },
  {
   "cell_type": "code",
   "execution_count": 56,
   "metadata": {},
   "outputs": [
    {
     "data": {
      "image/png": "[encoded data removed]",
      "text/plain": [
       "<Figure size 648x360 with 3 Axes>"
      ]
     },
     "metadata": {
      "needs_background": "light"
     },
     "output_type": "display_data"
    }
   ],
   "source": [
    "fig = plt.figure(figsize=(9,5))\n",
    "gx = gs.GridSpec(nrows=2, ncols=2, figure=fig, height_ratios=[3,1], width_ratios=[9,1])\n",
    "ax = np.empty(shape=(2,1), dtype=np.ndarray)\n",
    "ax[0,0] = fig.add_subplot(gx[0,0])\n",
    "ax[1,0] = fig.add_subplot(gx[1,0], sharex=ax[0,0])\n",
    "axr = fig.add_subplot(gx[:,1])\n",
    "ax[0,0].set_title(station+' substation', fontweight='bold')\n",
    "ax[0,0].plot(dwdf.loc[sn:en].index, y_true, \n",
    "             lw=2.5, color='royalblue', marker='+', markersize=8, label='Actual load')\n",
    "ax[0,0].plot(dwdf.loc[sn:en].index, y_pred, \n",
    "             lw=2, color='seagreen', label='Predicted load')\n",
    "ax[0,0].text(0.85, 0.45, 'MAPE = {:.2f} %'.format(mape), \n",
    "             horizontalalignment='center', verticalalignment='center', \n",
    "             fontsize=12, fontweight='bold',\n",
    "             transform=ax[0,0].transAxes)  # relative coordinates\n",
    "ax[0,0].legend(loc='upper left')\n",
    "ax[0,0].set_ylabel('Load (MW)')\n",
    "ax[0,0].grid(True)\n",
    "# Absolute percentage error\n",
    "abs_perc_error = np.abs((y_true - y_pred) / y_true)*100.\n",
    "ax[1,0].bar(dwdf.loc[sn:en].index, abs_perc_error, width=0.02, \n",
    "            color='darkorange', label='Absolute percentage error')\n",
    "ax[1,0].legend(loc='upper right')\n",
    "ax[1,0].set_ylabel('APE (%)')\n",
    "#ax[1,0].set_xlabel('Date')\n",
    "ax[1,0].grid(True)\n",
    "# Histogram of error distribution\n",
    "axr.hist(abs_perc_error, bins='auto', orientation='horizontal', \n",
    "         color='darkorange', alpha=0.8)\n",
    "xlims = axr.get_xlim()\n",
    "axr.hlines(mape, 0, xlims[1], colors='k', lw=2)\n",
    "axr.text(2.5, mape+0.2, 'MAPE', fontweight='bold')\n",
    "axr.grid(axis='y')\n",
    "axr.set_ylabel('Distribution of APE (%)')\n",
    "fig.tight_layout()\n",
    "#fig.savefig('{}_wide_deep.png'.format(station), dpi=800)\n",
    "plt.show()"
   ]
  },
  {
   "cell_type": "code",
   "execution_count": null,
   "metadata": {},
   "outputs": [],
   "source": []
  }
 ],
 "metadata": {
  "kernelspec": {
   "display_name": "Python 3",
   "language": "python",
   "name": "python3"
  },
  "language_info": {
   "codemirror_mode": {
    "name": "ipython",
    "version": 3
   },
   "file_extension": ".py",
   "mimetype": "text/x-python",
   "name": "python",
   "nbconvert_exporter": "python",
   "pygments_lexer": "ipython3",
   "version": "3.7.3"
  }
 },
 "nbformat": 4,
 "nbformat_minor": 2
}
